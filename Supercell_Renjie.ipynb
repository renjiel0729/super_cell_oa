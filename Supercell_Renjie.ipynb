{
  "nbformat": 4,
  "nbformat_minor": 0,
  "metadata": {
    "colab": {
      "provenance": []
    },
    "kernelspec": {
      "name": "python3",
      "display_name": "Python 3"
    },
    "language_info": {
      "name": "python"
    }
  },
  "cells": [
    {
      "cell_type": "code",
      "execution_count": 1,
      "metadata": {
        "id": "3FaeriJSAxei"
      },
      "outputs": [],
      "source": [
        "# importing\n",
        "import pandas as pd\n",
        "\n",
        "# data viz\n",
        "import matplotlib.pyplot as plt\n",
        "from matplotlib import rcParams\n",
        "import seaborn as sns\n",
        "\n",
        "# apply some cool styling\n",
        "plt.style.use(\"ggplot\")\n",
        "rcParams['figure.figsize'] = (12, 6)"
      ]
    },
    {
      "cell_type": "code",
      "source": [
        "#upload files to colab\n",
        "from google.colab import files\n",
        "uploaded = files.upload()"
      ],
      "metadata": {
        "colab": {
          "base_uri": "https://localhost:8080/",
          "height": 78
        },
        "id": "RtZ6rZIKA4M5",
        "outputId": "4d036f53-c1e6-4b49-f2f5-1bbeebef4518"
      },
      "execution_count": 2,
      "outputs": [
        {
          "output_type": "display_data",
          "data": {
            "text/plain": [
              "<IPython.core.display.HTML object>"
            ],
            "text/html": [
              "\n",
              "     <input type=\"file\" id=\"files-cc32cec1-16a6-449a-9058-410e4b11e4dd\" name=\"files[]\" multiple disabled\n",
              "        style=\"border:none\" />\n",
              "     <output id=\"result-cc32cec1-16a6-449a-9058-410e4b11e4dd\">\n",
              "      Upload widget is only available when the cell has been executed in the\n",
              "      current browser session. Please rerun this cell to enable.\n",
              "      </output>\n",
              "      <script>// Copyright 2017 Google LLC\n",
              "//\n",
              "// Licensed under the Apache License, Version 2.0 (the \"License\");\n",
              "// you may not use this file except in compliance with the License.\n",
              "// You may obtain a copy of the License at\n",
              "//\n",
              "//      http://www.apache.org/licenses/LICENSE-2.0\n",
              "//\n",
              "// Unless required by applicable law or agreed to in writing, software\n",
              "// distributed under the License is distributed on an \"AS IS\" BASIS,\n",
              "// WITHOUT WARRANTIES OR CONDITIONS OF ANY KIND, either express or implied.\n",
              "// See the License for the specific language governing permissions and\n",
              "// limitations under the License.\n",
              "\n",
              "/**\n",
              " * @fileoverview Helpers for google.colab Python module.\n",
              " */\n",
              "(function(scope) {\n",
              "function span(text, styleAttributes = {}) {\n",
              "  const element = document.createElement('span');\n",
              "  element.textContent = text;\n",
              "  for (const key of Object.keys(styleAttributes)) {\n",
              "    element.style[key] = styleAttributes[key];\n",
              "  }\n",
              "  return element;\n",
              "}\n",
              "\n",
              "// Max number of bytes which will be uploaded at a time.\n",
              "const MAX_PAYLOAD_SIZE = 100 * 1024;\n",
              "\n",
              "function _uploadFiles(inputId, outputId) {\n",
              "  const steps = uploadFilesStep(inputId, outputId);\n",
              "  const outputElement = document.getElementById(outputId);\n",
              "  // Cache steps on the outputElement to make it available for the next call\n",
              "  // to uploadFilesContinue from Python.\n",
              "  outputElement.steps = steps;\n",
              "\n",
              "  return _uploadFilesContinue(outputId);\n",
              "}\n",
              "\n",
              "// This is roughly an async generator (not supported in the browser yet),\n",
              "// where there are multiple asynchronous steps and the Python side is going\n",
              "// to poll for completion of each step.\n",
              "// This uses a Promise to block the python side on completion of each step,\n",
              "// then passes the result of the previous step as the input to the next step.\n",
              "function _uploadFilesContinue(outputId) {\n",
              "  const outputElement = document.getElementById(outputId);\n",
              "  const steps = outputElement.steps;\n",
              "\n",
              "  const next = steps.next(outputElement.lastPromiseValue);\n",
              "  return Promise.resolve(next.value.promise).then((value) => {\n",
              "    // Cache the last promise value to make it available to the next\n",
              "    // step of the generator.\n",
              "    outputElement.lastPromiseValue = value;\n",
              "    return next.value.response;\n",
              "  });\n",
              "}\n",
              "\n",
              "/**\n",
              " * Generator function which is called between each async step of the upload\n",
              " * process.\n",
              " * @param {string} inputId Element ID of the input file picker element.\n",
              " * @param {string} outputId Element ID of the output display.\n",
              " * @return {!Iterable<!Object>} Iterable of next steps.\n",
              " */\n",
              "function* uploadFilesStep(inputId, outputId) {\n",
              "  const inputElement = document.getElementById(inputId);\n",
              "  inputElement.disabled = false;\n",
              "\n",
              "  const outputElement = document.getElementById(outputId);\n",
              "  outputElement.innerHTML = '';\n",
              "\n",
              "  const pickedPromise = new Promise((resolve) => {\n",
              "    inputElement.addEventListener('change', (e) => {\n",
              "      resolve(e.target.files);\n",
              "    });\n",
              "  });\n",
              "\n",
              "  const cancel = document.createElement('button');\n",
              "  inputElement.parentElement.appendChild(cancel);\n",
              "  cancel.textContent = 'Cancel upload';\n",
              "  const cancelPromise = new Promise((resolve) => {\n",
              "    cancel.onclick = () => {\n",
              "      resolve(null);\n",
              "    };\n",
              "  });\n",
              "\n",
              "  // Wait for the user to pick the files.\n",
              "  const files = yield {\n",
              "    promise: Promise.race([pickedPromise, cancelPromise]),\n",
              "    response: {\n",
              "      action: 'starting',\n",
              "    }\n",
              "  };\n",
              "\n",
              "  cancel.remove();\n",
              "\n",
              "  // Disable the input element since further picks are not allowed.\n",
              "  inputElement.disabled = true;\n",
              "\n",
              "  if (!files) {\n",
              "    return {\n",
              "      response: {\n",
              "        action: 'complete',\n",
              "      }\n",
              "    };\n",
              "  }\n",
              "\n",
              "  for (const file of files) {\n",
              "    const li = document.createElement('li');\n",
              "    li.append(span(file.name, {fontWeight: 'bold'}));\n",
              "    li.append(span(\n",
              "        `(${file.type || 'n/a'}) - ${file.size} bytes, ` +\n",
              "        `last modified: ${\n",
              "            file.lastModifiedDate ? file.lastModifiedDate.toLocaleDateString() :\n",
              "                                    'n/a'} - `));\n",
              "    const percent = span('0% done');\n",
              "    li.appendChild(percent);\n",
              "\n",
              "    outputElement.appendChild(li);\n",
              "\n",
              "    const fileDataPromise = new Promise((resolve) => {\n",
              "      const reader = new FileReader();\n",
              "      reader.onload = (e) => {\n",
              "        resolve(e.target.result);\n",
              "      };\n",
              "      reader.readAsArrayBuffer(file);\n",
              "    });\n",
              "    // Wait for the data to be ready.\n",
              "    let fileData = yield {\n",
              "      promise: fileDataPromise,\n",
              "      response: {\n",
              "        action: 'continue',\n",
              "      }\n",
              "    };\n",
              "\n",
              "    // Use a chunked sending to avoid message size limits. See b/62115660.\n",
              "    let position = 0;\n",
              "    do {\n",
              "      const length = Math.min(fileData.byteLength - position, MAX_PAYLOAD_SIZE);\n",
              "      const chunk = new Uint8Array(fileData, position, length);\n",
              "      position += length;\n",
              "\n",
              "      const base64 = btoa(String.fromCharCode.apply(null, chunk));\n",
              "      yield {\n",
              "        response: {\n",
              "          action: 'append',\n",
              "          file: file.name,\n",
              "          data: base64,\n",
              "        },\n",
              "      };\n",
              "\n",
              "      let percentDone = fileData.byteLength === 0 ?\n",
              "          100 :\n",
              "          Math.round((position / fileData.byteLength) * 100);\n",
              "      percent.textContent = `${percentDone}% done`;\n",
              "\n",
              "    } while (position < fileData.byteLength);\n",
              "  }\n",
              "\n",
              "  // All done.\n",
              "  yield {\n",
              "    response: {\n",
              "      action: 'complete',\n",
              "    }\n",
              "  };\n",
              "}\n",
              "\n",
              "scope.google = scope.google || {};\n",
              "scope.google.colab = scope.google.colab || {};\n",
              "scope.google.colab._files = {\n",
              "  _uploadFiles,\n",
              "  _uploadFilesContinue,\n",
              "};\n",
              "})(self);\n",
              "</script> "
            ]
          },
          "metadata": {}
        },
        {
          "output_type": "stream",
          "name": "stdout",
          "text": [
            "Saving sample.sqlite to sample.sqlite\n"
          ]
        }
      ]
    },
    {
      "cell_type": "markdown",
      "source": [
        "Supercell Data Scientist Challenge\n",
        "\n",
        "You've received a SQLite3 database sample.sqlite as an attachment containing sample\n",
        "data from a hypothetical free-to-play mobile game (see section The Data for details).\n",
        "Your task is to use this data set to answer the questions below and prepare a report of\n",
        "your findings.\n",
        "The report should be written to an audience that consists of game and business\n",
        "developers and it will be reviewed on actionability, insightfulness and clarity.\n",
        "Please return your report as a PDF file to datascience-challenge@supercell.com and\n",
        "attach all your code and plots. Please send your plots embedded in the report or\n",
        "separately in PDF or PNG format.\n",
        "\n",
        "\n",
        "The Data\n",
        "\n",
        "The database contains three tables: account, account_date_session and iap_purchase.\n",
        "account contains user profiles, iap_purchase contains in-app purchases by the users,\n",
        "and account_date_session contains the number of sessions for the users for the days\n",
        "they have been active. All the tables contain data for the year of 2016.\n",
        "You can access the SQLite3 database by command line interface sqlite3. There are\n",
        "also libraries for R and python.\n",
        "We'd prefer that you complete the assignment using SQL, R, and/or python but feel free\n",
        "to use any tools that you think are suitable for the job. The only criteria is still that the\n",
        "plots you do should be reproducible with the code you are writing.\n",
        "We will assess the visualisation based on clarity and readability, and your conclusions\n",
        "based on actionability and insightfulness."
      ],
      "metadata": {
        "id": "zf_sf5B_BRGs"
      }
    },
    {
      "cell_type": "code",
      "source": [
        "import sqlite3\n",
        "# Create your connection.\n",
        "cnx = sqlite3.connect('sample.sqlite')\n",
        "\n",
        "account = pd.read_sql_query(\"SELECT * FROM account\", cnx)"
      ],
      "metadata": {
        "id": "F4HCbGU7BWox"
      },
      "execution_count": 3,
      "outputs": []
    },
    {
      "cell_type": "code",
      "source": [
        "account.sample(5)"
      ],
      "metadata": {
        "colab": {
          "base_uri": "https://localhost:8080/",
          "height": 206
        },
        "id": "4YamRUSECc0x",
        "outputId": "d2d044fa-1ae6-4d8e-cf4b-0ac543874e03"
      },
      "execution_count": 4,
      "outputs": [
        {
          "output_type": "execute_result",
          "data": {
            "text/plain": [
              "        account_id             created_time created_device created_platform  \\\n",
              "18189  25781915610  2016-01-02 05:35:50.172    Lenovo A850          Android   \n",
              "84094  47260118592  2016-09-19 12:58:39.915      CAM-TL00H          Android   \n",
              "72102  38668792250  2016-05-21 06:05:00.295            A31          Android   \n",
              "43078  30077482866  2016-02-07 02:32:59.802         Zera F          Android   \n",
              "80842   4310785624  2016-09-12 21:01:17.238           M821          Android   \n",
              "\n",
              "      country_code  created_app_store_id  \n",
              "18189           CN                     4  \n",
              "84094           CN                     4  \n",
              "72102           CN                     7  \n",
              "43078           RU                     2  \n",
              "80842           CN                    19  "
            ],
            "text/html": [
              "\n",
              "  <div id=\"df-53d329d9-3612-42fd-8b4a-23a1b33d5178\">\n",
              "    <div class=\"colab-df-container\">\n",
              "      <div>\n",
              "<style scoped>\n",
              "    .dataframe tbody tr th:only-of-type {\n",
              "        vertical-align: middle;\n",
              "    }\n",
              "\n",
              "    .dataframe tbody tr th {\n",
              "        vertical-align: top;\n",
              "    }\n",
              "\n",
              "    .dataframe thead th {\n",
              "        text-align: right;\n",
              "    }\n",
              "</style>\n",
              "<table border=\"1\" class=\"dataframe\">\n",
              "  <thead>\n",
              "    <tr style=\"text-align: right;\">\n",
              "      <th></th>\n",
              "      <th>account_id</th>\n",
              "      <th>created_time</th>\n",
              "      <th>created_device</th>\n",
              "      <th>created_platform</th>\n",
              "      <th>country_code</th>\n",
              "      <th>created_app_store_id</th>\n",
              "    </tr>\n",
              "  </thead>\n",
              "  <tbody>\n",
              "    <tr>\n",
              "      <th>18189</th>\n",
              "      <td>25781915610</td>\n",
              "      <td>2016-01-02 05:35:50.172</td>\n",
              "      <td>Lenovo A850</td>\n",
              "      <td>Android</td>\n",
              "      <td>CN</td>\n",
              "      <td>4</td>\n",
              "    </tr>\n",
              "    <tr>\n",
              "      <th>84094</th>\n",
              "      <td>47260118592</td>\n",
              "      <td>2016-09-19 12:58:39.915</td>\n",
              "      <td>CAM-TL00H</td>\n",
              "      <td>Android</td>\n",
              "      <td>CN</td>\n",
              "      <td>4</td>\n",
              "    </tr>\n",
              "    <tr>\n",
              "      <th>72102</th>\n",
              "      <td>38668792250</td>\n",
              "      <td>2016-05-21 06:05:00.295</td>\n",
              "      <td>A31</td>\n",
              "      <td>Android</td>\n",
              "      <td>CN</td>\n",
              "      <td>7</td>\n",
              "    </tr>\n",
              "    <tr>\n",
              "      <th>43078</th>\n",
              "      <td>30077482866</td>\n",
              "      <td>2016-02-07 02:32:59.802</td>\n",
              "      <td>Zera F</td>\n",
              "      <td>Android</td>\n",
              "      <td>RU</td>\n",
              "      <td>2</td>\n",
              "    </tr>\n",
              "    <tr>\n",
              "      <th>80842</th>\n",
              "      <td>4310785624</td>\n",
              "      <td>2016-09-12 21:01:17.238</td>\n",
              "      <td>M821</td>\n",
              "      <td>Android</td>\n",
              "      <td>CN</td>\n",
              "      <td>19</td>\n",
              "    </tr>\n",
              "  </tbody>\n",
              "</table>\n",
              "</div>\n",
              "      <button class=\"colab-df-convert\" onclick=\"convertToInteractive('df-53d329d9-3612-42fd-8b4a-23a1b33d5178')\"\n",
              "              title=\"Convert this dataframe to an interactive table.\"\n",
              "              style=\"display:none;\">\n",
              "        \n",
              "  <svg xmlns=\"http://www.w3.org/2000/svg\" height=\"24px\"viewBox=\"0 0 24 24\"\n",
              "       width=\"24px\">\n",
              "    <path d=\"M0 0h24v24H0V0z\" fill=\"none\"/>\n",
              "    <path d=\"M18.56 5.44l.94 2.06.94-2.06 2.06-.94-2.06-.94-.94-2.06-.94 2.06-2.06.94zm-11 1L8.5 8.5l.94-2.06 2.06-.94-2.06-.94L8.5 2.5l-.94 2.06-2.06.94zm10 10l.94 2.06.94-2.06 2.06-.94-2.06-.94-.94-2.06-.94 2.06-2.06.94z\"/><path d=\"M17.41 7.96l-1.37-1.37c-.4-.4-.92-.59-1.43-.59-.52 0-1.04.2-1.43.59L10.3 9.45l-7.72 7.72c-.78.78-.78 2.05 0 2.83L4 21.41c.39.39.9.59 1.41.59.51 0 1.02-.2 1.41-.59l7.78-7.78 2.81-2.81c.8-.78.8-2.07 0-2.86zM5.41 20L4 18.59l7.72-7.72 1.47 1.35L5.41 20z\"/>\n",
              "  </svg>\n",
              "      </button>\n",
              "      \n",
              "  <style>\n",
              "    .colab-df-container {\n",
              "      display:flex;\n",
              "      flex-wrap:wrap;\n",
              "      gap: 12px;\n",
              "    }\n",
              "\n",
              "    .colab-df-convert {\n",
              "      background-color: #E8F0FE;\n",
              "      border: none;\n",
              "      border-radius: 50%;\n",
              "      cursor: pointer;\n",
              "      display: none;\n",
              "      fill: #1967D2;\n",
              "      height: 32px;\n",
              "      padding: 0 0 0 0;\n",
              "      width: 32px;\n",
              "    }\n",
              "\n",
              "    .colab-df-convert:hover {\n",
              "      background-color: #E2EBFA;\n",
              "      box-shadow: 0px 1px 2px rgba(60, 64, 67, 0.3), 0px 1px 3px 1px rgba(60, 64, 67, 0.15);\n",
              "      fill: #174EA6;\n",
              "    }\n",
              "\n",
              "    [theme=dark] .colab-df-convert {\n",
              "      background-color: #3B4455;\n",
              "      fill: #D2E3FC;\n",
              "    }\n",
              "\n",
              "    [theme=dark] .colab-df-convert:hover {\n",
              "      background-color: #434B5C;\n",
              "      box-shadow: 0px 1px 3px 1px rgba(0, 0, 0, 0.15);\n",
              "      filter: drop-shadow(0px 1px 2px rgba(0, 0, 0, 0.3));\n",
              "      fill: #FFFFFF;\n",
              "    }\n",
              "  </style>\n",
              "\n",
              "      <script>\n",
              "        const buttonEl =\n",
              "          document.querySelector('#df-53d329d9-3612-42fd-8b4a-23a1b33d5178 button.colab-df-convert');\n",
              "        buttonEl.style.display =\n",
              "          google.colab.kernel.accessAllowed ? 'block' : 'none';\n",
              "\n",
              "        async function convertToInteractive(key) {\n",
              "          const element = document.querySelector('#df-53d329d9-3612-42fd-8b4a-23a1b33d5178');\n",
              "          const dataTable =\n",
              "            await google.colab.kernel.invokeFunction('convertToInteractive',\n",
              "                                                     [key], {});\n",
              "          if (!dataTable) return;\n",
              "\n",
              "          const docLinkHtml = 'Like what you see? Visit the ' +\n",
              "            '<a target=\"_blank\" href=https://colab.research.google.com/notebooks/data_table.ipynb>data table notebook</a>'\n",
              "            + ' to learn more about interactive tables.';\n",
              "          element.innerHTML = '';\n",
              "          dataTable['output_type'] = 'display_data';\n",
              "          await google.colab.output.renderOutput(dataTable, element);\n",
              "          const docLink = document.createElement('div');\n",
              "          docLink.innerHTML = docLinkHtml;\n",
              "          element.appendChild(docLink);\n",
              "        }\n",
              "      </script>\n",
              "    </div>\n",
              "  </div>\n",
              "  "
            ]
          },
          "metadata": {},
          "execution_count": 4
        }
      ]
    },
    {
      "cell_type": "code",
      "source": [
        "account_date_session = pd.read_sql_query(\"SELECT * FROM account_date_session\", cnx)"
      ],
      "metadata": {
        "id": "ey047uX-Cec2"
      },
      "execution_count": 5,
      "outputs": []
    },
    {
      "cell_type": "code",
      "source": [
        "account_date_session.sample(5)"
      ],
      "metadata": {
        "colab": {
          "base_uri": "https://localhost:8080/",
          "height": 206
        },
        "id": "kRRtEA8-CqJO",
        "outputId": "441aa241-ab83-4f24-8aa2-0f7692b02e99"
      },
      "execution_count": 6,
      "outputs": [
        {
          "output_type": "execute_result",
          "data": {
            "text/plain": [
              "          account_id        date  session_count  session_duration_sec\n",
              "762852      13507860  2016-04-07              5                  1127\n",
              "617734   30078549092  2016-04-28              5                  1970\n",
              "1533212   4311241432  2016-10-29              2                  2447\n",
              "195610   25782611986  2016-02-09              2                  1546\n",
              "60764     4308162950  2016-02-11              5                  1656"
            ],
            "text/html": [
              "\n",
              "  <div id=\"df-a39ea892-ebe7-4507-80f4-eaadd7c1fd17\">\n",
              "    <div class=\"colab-df-container\">\n",
              "      <div>\n",
              "<style scoped>\n",
              "    .dataframe tbody tr th:only-of-type {\n",
              "        vertical-align: middle;\n",
              "    }\n",
              "\n",
              "    .dataframe tbody tr th {\n",
              "        vertical-align: top;\n",
              "    }\n",
              "\n",
              "    .dataframe thead th {\n",
              "        text-align: right;\n",
              "    }\n",
              "</style>\n",
              "<table border=\"1\" class=\"dataframe\">\n",
              "  <thead>\n",
              "    <tr style=\"text-align: right;\">\n",
              "      <th></th>\n",
              "      <th>account_id</th>\n",
              "      <th>date</th>\n",
              "      <th>session_count</th>\n",
              "      <th>session_duration_sec</th>\n",
              "    </tr>\n",
              "  </thead>\n",
              "  <tbody>\n",
              "    <tr>\n",
              "      <th>762852</th>\n",
              "      <td>13507860</td>\n",
              "      <td>2016-04-07</td>\n",
              "      <td>5</td>\n",
              "      <td>1127</td>\n",
              "    </tr>\n",
              "    <tr>\n",
              "      <th>617734</th>\n",
              "      <td>30078549092</td>\n",
              "      <td>2016-04-28</td>\n",
              "      <td>5</td>\n",
              "      <td>1970</td>\n",
              "    </tr>\n",
              "    <tr>\n",
              "      <th>1533212</th>\n",
              "      <td>4311241432</td>\n",
              "      <td>2016-10-29</td>\n",
              "      <td>2</td>\n",
              "      <td>2447</td>\n",
              "    </tr>\n",
              "    <tr>\n",
              "      <th>195610</th>\n",
              "      <td>25782611986</td>\n",
              "      <td>2016-02-09</td>\n",
              "      <td>2</td>\n",
              "      <td>1546</td>\n",
              "    </tr>\n",
              "    <tr>\n",
              "      <th>60764</th>\n",
              "      <td>4308162950</td>\n",
              "      <td>2016-02-11</td>\n",
              "      <td>5</td>\n",
              "      <td>1656</td>\n",
              "    </tr>\n",
              "  </tbody>\n",
              "</table>\n",
              "</div>\n",
              "      <button class=\"colab-df-convert\" onclick=\"convertToInteractive('df-a39ea892-ebe7-4507-80f4-eaadd7c1fd17')\"\n",
              "              title=\"Convert this dataframe to an interactive table.\"\n",
              "              style=\"display:none;\">\n",
              "        \n",
              "  <svg xmlns=\"http://www.w3.org/2000/svg\" height=\"24px\"viewBox=\"0 0 24 24\"\n",
              "       width=\"24px\">\n",
              "    <path d=\"M0 0h24v24H0V0z\" fill=\"none\"/>\n",
              "    <path d=\"M18.56 5.44l.94 2.06.94-2.06 2.06-.94-2.06-.94-.94-2.06-.94 2.06-2.06.94zm-11 1L8.5 8.5l.94-2.06 2.06-.94-2.06-.94L8.5 2.5l-.94 2.06-2.06.94zm10 10l.94 2.06.94-2.06 2.06-.94-2.06-.94-.94-2.06-.94 2.06-2.06.94z\"/><path d=\"M17.41 7.96l-1.37-1.37c-.4-.4-.92-.59-1.43-.59-.52 0-1.04.2-1.43.59L10.3 9.45l-7.72 7.72c-.78.78-.78 2.05 0 2.83L4 21.41c.39.39.9.59 1.41.59.51 0 1.02-.2 1.41-.59l7.78-7.78 2.81-2.81c.8-.78.8-2.07 0-2.86zM5.41 20L4 18.59l7.72-7.72 1.47 1.35L5.41 20z\"/>\n",
              "  </svg>\n",
              "      </button>\n",
              "      \n",
              "  <style>\n",
              "    .colab-df-container {\n",
              "      display:flex;\n",
              "      flex-wrap:wrap;\n",
              "      gap: 12px;\n",
              "    }\n",
              "\n",
              "    .colab-df-convert {\n",
              "      background-color: #E8F0FE;\n",
              "      border: none;\n",
              "      border-radius: 50%;\n",
              "      cursor: pointer;\n",
              "      display: none;\n",
              "      fill: #1967D2;\n",
              "      height: 32px;\n",
              "      padding: 0 0 0 0;\n",
              "      width: 32px;\n",
              "    }\n",
              "\n",
              "    .colab-df-convert:hover {\n",
              "      background-color: #E2EBFA;\n",
              "      box-shadow: 0px 1px 2px rgba(60, 64, 67, 0.3), 0px 1px 3px 1px rgba(60, 64, 67, 0.15);\n",
              "      fill: #174EA6;\n",
              "    }\n",
              "\n",
              "    [theme=dark] .colab-df-convert {\n",
              "      background-color: #3B4455;\n",
              "      fill: #D2E3FC;\n",
              "    }\n",
              "\n",
              "    [theme=dark] .colab-df-convert:hover {\n",
              "      background-color: #434B5C;\n",
              "      box-shadow: 0px 1px 3px 1px rgba(0, 0, 0, 0.15);\n",
              "      filter: drop-shadow(0px 1px 2px rgba(0, 0, 0, 0.3));\n",
              "      fill: #FFFFFF;\n",
              "    }\n",
              "  </style>\n",
              "\n",
              "      <script>\n",
              "        const buttonEl =\n",
              "          document.querySelector('#df-a39ea892-ebe7-4507-80f4-eaadd7c1fd17 button.colab-df-convert');\n",
              "        buttonEl.style.display =\n",
              "          google.colab.kernel.accessAllowed ? 'block' : 'none';\n",
              "\n",
              "        async function convertToInteractive(key) {\n",
              "          const element = document.querySelector('#df-a39ea892-ebe7-4507-80f4-eaadd7c1fd17');\n",
              "          const dataTable =\n",
              "            await google.colab.kernel.invokeFunction('convertToInteractive',\n",
              "                                                     [key], {});\n",
              "          if (!dataTable) return;\n",
              "\n",
              "          const docLinkHtml = 'Like what you see? Visit the ' +\n",
              "            '<a target=\"_blank\" href=https://colab.research.google.com/notebooks/data_table.ipynb>data table notebook</a>'\n",
              "            + ' to learn more about interactive tables.';\n",
              "          element.innerHTML = '';\n",
              "          dataTable['output_type'] = 'display_data';\n",
              "          await google.colab.output.renderOutput(dataTable, element);\n",
              "          const docLink = document.createElement('div');\n",
              "          docLink.innerHTML = docLinkHtml;\n",
              "          element.appendChild(docLink);\n",
              "        }\n",
              "      </script>\n",
              "    </div>\n",
              "  </div>\n",
              "  "
            ]
          },
          "metadata": {},
          "execution_count": 6
        }
      ]
    },
    {
      "cell_type": "code",
      "source": [
        "iap_purchase = pd.read_sql_query(\"SELECT * FROM iap_purchase\", cnx)\n",
        "iap_purchase.sample(5)"
      ],
      "metadata": {
        "colab": {
          "base_uri": "https://localhost:8080/",
          "height": 206
        },
        "id": "Tel2ZjASCvUf",
        "outputId": "e67252cb-64a2-43a2-8f02-7d5929aeff7a"
      },
      "execution_count": 7,
      "outputs": [
        {
          "output_type": "execute_result",
          "data": {
            "text/plain": [
              "       account_id             created_time                   package_id_hash  \\\n",
              "4256  60143451700  2016-07-08 12:25:34.729  99a9e0e63efa2fdce8fc8de74c66cea9   \n",
              "968      12438367  2016-01-31 10:56:40.757  ae0253c27c34edd1ab4fe21d6bfc91f8   \n",
              "8755   8602184916  2016-01-09 04:39:58.297  99a9e0e63efa2fdce8fc8de74c66cea9   \n",
              "1245   8603836527  2016-08-05 05:49:36.833  99a9e0e63efa2fdce8fc8de74c66cea9   \n",
              "1955  55846384622   2016-03-16 17:42:52.31  dd4c1bda4f2c904075fb2fbfcf30f30e   \n",
              "\n",
              "      iap_price_usd_cents  app_store_id  \n",
              "4256                  184             2  \n",
              "968                   739             0  \n",
              "8755                  184             0  \n",
              "1245                  184             2  \n",
              "1955                  369             0  "
            ],
            "text/html": [
              "\n",
              "  <div id=\"df-abc7a8bb-b59e-4329-a048-06915259bb85\">\n",
              "    <div class=\"colab-df-container\">\n",
              "      <div>\n",
              "<style scoped>\n",
              "    .dataframe tbody tr th:only-of-type {\n",
              "        vertical-align: middle;\n",
              "    }\n",
              "\n",
              "    .dataframe tbody tr th {\n",
              "        vertical-align: top;\n",
              "    }\n",
              "\n",
              "    .dataframe thead th {\n",
              "        text-align: right;\n",
              "    }\n",
              "</style>\n",
              "<table border=\"1\" class=\"dataframe\">\n",
              "  <thead>\n",
              "    <tr style=\"text-align: right;\">\n",
              "      <th></th>\n",
              "      <th>account_id</th>\n",
              "      <th>created_time</th>\n",
              "      <th>package_id_hash</th>\n",
              "      <th>iap_price_usd_cents</th>\n",
              "      <th>app_store_id</th>\n",
              "    </tr>\n",
              "  </thead>\n",
              "  <tbody>\n",
              "    <tr>\n",
              "      <th>4256</th>\n",
              "      <td>60143451700</td>\n",
              "      <td>2016-07-08 12:25:34.729</td>\n",
              "      <td>99a9e0e63efa2fdce8fc8de74c66cea9</td>\n",
              "      <td>184</td>\n",
              "      <td>2</td>\n",
              "    </tr>\n",
              "    <tr>\n",
              "      <th>968</th>\n",
              "      <td>12438367</td>\n",
              "      <td>2016-01-31 10:56:40.757</td>\n",
              "      <td>ae0253c27c34edd1ab4fe21d6bfc91f8</td>\n",
              "      <td>739</td>\n",
              "      <td>0</td>\n",
              "    </tr>\n",
              "    <tr>\n",
              "      <th>8755</th>\n",
              "      <td>8602184916</td>\n",
              "      <td>2016-01-09 04:39:58.297</td>\n",
              "      <td>99a9e0e63efa2fdce8fc8de74c66cea9</td>\n",
              "      <td>184</td>\n",
              "      <td>0</td>\n",
              "    </tr>\n",
              "    <tr>\n",
              "      <th>1245</th>\n",
              "      <td>8603836527</td>\n",
              "      <td>2016-08-05 05:49:36.833</td>\n",
              "      <td>99a9e0e63efa2fdce8fc8de74c66cea9</td>\n",
              "      <td>184</td>\n",
              "      <td>2</td>\n",
              "    </tr>\n",
              "    <tr>\n",
              "      <th>1955</th>\n",
              "      <td>55846384622</td>\n",
              "      <td>2016-03-16 17:42:52.31</td>\n",
              "      <td>dd4c1bda4f2c904075fb2fbfcf30f30e</td>\n",
              "      <td>369</td>\n",
              "      <td>0</td>\n",
              "    </tr>\n",
              "  </tbody>\n",
              "</table>\n",
              "</div>\n",
              "      <button class=\"colab-df-convert\" onclick=\"convertToInteractive('df-abc7a8bb-b59e-4329-a048-06915259bb85')\"\n",
              "              title=\"Convert this dataframe to an interactive table.\"\n",
              "              style=\"display:none;\">\n",
              "        \n",
              "  <svg xmlns=\"http://www.w3.org/2000/svg\" height=\"24px\"viewBox=\"0 0 24 24\"\n",
              "       width=\"24px\">\n",
              "    <path d=\"M0 0h24v24H0V0z\" fill=\"none\"/>\n",
              "    <path d=\"M18.56 5.44l.94 2.06.94-2.06 2.06-.94-2.06-.94-.94-2.06-.94 2.06-2.06.94zm-11 1L8.5 8.5l.94-2.06 2.06-.94-2.06-.94L8.5 2.5l-.94 2.06-2.06.94zm10 10l.94 2.06.94-2.06 2.06-.94-2.06-.94-.94-2.06-.94 2.06-2.06.94z\"/><path d=\"M17.41 7.96l-1.37-1.37c-.4-.4-.92-.59-1.43-.59-.52 0-1.04.2-1.43.59L10.3 9.45l-7.72 7.72c-.78.78-.78 2.05 0 2.83L4 21.41c.39.39.9.59 1.41.59.51 0 1.02-.2 1.41-.59l7.78-7.78 2.81-2.81c.8-.78.8-2.07 0-2.86zM5.41 20L4 18.59l7.72-7.72 1.47 1.35L5.41 20z\"/>\n",
              "  </svg>\n",
              "      </button>\n",
              "      \n",
              "  <style>\n",
              "    .colab-df-container {\n",
              "      display:flex;\n",
              "      flex-wrap:wrap;\n",
              "      gap: 12px;\n",
              "    }\n",
              "\n",
              "    .colab-df-convert {\n",
              "      background-color: #E8F0FE;\n",
              "      border: none;\n",
              "      border-radius: 50%;\n",
              "      cursor: pointer;\n",
              "      display: none;\n",
              "      fill: #1967D2;\n",
              "      height: 32px;\n",
              "      padding: 0 0 0 0;\n",
              "      width: 32px;\n",
              "    }\n",
              "\n",
              "    .colab-df-convert:hover {\n",
              "      background-color: #E2EBFA;\n",
              "      box-shadow: 0px 1px 2px rgba(60, 64, 67, 0.3), 0px 1px 3px 1px rgba(60, 64, 67, 0.15);\n",
              "      fill: #174EA6;\n",
              "    }\n",
              "\n",
              "    [theme=dark] .colab-df-convert {\n",
              "      background-color: #3B4455;\n",
              "      fill: #D2E3FC;\n",
              "    }\n",
              "\n",
              "    [theme=dark] .colab-df-convert:hover {\n",
              "      background-color: #434B5C;\n",
              "      box-shadow: 0px 1px 3px 1px rgba(0, 0, 0, 0.15);\n",
              "      filter: drop-shadow(0px 1px 2px rgba(0, 0, 0, 0.3));\n",
              "      fill: #FFFFFF;\n",
              "    }\n",
              "  </style>\n",
              "\n",
              "      <script>\n",
              "        const buttonEl =\n",
              "          document.querySelector('#df-abc7a8bb-b59e-4329-a048-06915259bb85 button.colab-df-convert');\n",
              "        buttonEl.style.display =\n",
              "          google.colab.kernel.accessAllowed ? 'block' : 'none';\n",
              "\n",
              "        async function convertToInteractive(key) {\n",
              "          const element = document.querySelector('#df-abc7a8bb-b59e-4329-a048-06915259bb85');\n",
              "          const dataTable =\n",
              "            await google.colab.kernel.invokeFunction('convertToInteractive',\n",
              "                                                     [key], {});\n",
              "          if (!dataTable) return;\n",
              "\n",
              "          const docLinkHtml = 'Like what you see? Visit the ' +\n",
              "            '<a target=\"_blank\" href=https://colab.research.google.com/notebooks/data_table.ipynb>data table notebook</a>'\n",
              "            + ' to learn more about interactive tables.';\n",
              "          element.innerHTML = '';\n",
              "          dataTable['output_type'] = 'display_data';\n",
              "          await google.colab.output.renderOutput(dataTable, element);\n",
              "          const docLink = document.createElement('div');\n",
              "          docLink.innerHTML = docLinkHtml;\n",
              "          element.appendChild(docLink);\n",
              "        }\n",
              "      </script>\n",
              "    </div>\n",
              "  </div>\n",
              "  "
            ]
          },
          "metadata": {},
          "execution_count": 7
        }
      ]
    },
    {
      "cell_type": "markdown",
      "source": [
        "Warmup! Revenue and Active Users\n",
        "\n",
        "Pick either one of the two. To limit the scope, maybe keep it down to a few plots and\n",
        "text/conclusions to accompany them. If you want, you can add more plots in a possible\n",
        "appendix, if any.\n",
        "Are there any trends visible in the revenue or the daily active users? Visualise and\n",
        "explain your observations.\n",
        "Analyse the geographic split of the revenue and the users. What are your\n",
        "observations of the results?"
      ],
      "metadata": {
        "id": "U2ZNOQAgD8Aa"
      }
    },
    {
      "cell_type": "code",
      "source": [
        "iap_purchase.groupby(by = 'app_store_id').iap_price_usd_cents.sum()"
      ],
      "metadata": {
        "colab": {
          "base_uri": "https://localhost:8080/"
        },
        "id": "bKmTsedtC2Du",
        "outputId": "d9ec3f58-528b-4cd5-8be8-3d819696bbc3"
      },
      "execution_count": 8,
      "outputs": [
        {
          "output_type": "execute_result",
          "data": {
            "text/plain": [
              "app_store_id\n",
              "0     2267872\n",
              "1      686596\n",
              "2      808720\n",
              "3       78450\n",
              "4       55726\n",
              "6        9287\n",
              "7       82318\n",
              "8       48222\n",
              "10     142244\n",
              "11        324\n",
              "14        254\n",
              "15       5700\n",
              "16      26219\n",
              "19      39930\n",
              "Name: iap_price_usd_cents, dtype: int64"
            ]
          },
          "metadata": {},
          "execution_count": 8
        }
      ]
    },
    {
      "cell_type": "code",
      "source": [
        "data1 = iap_purchase.groupby(by = 'app_store_id').iap_price_usd_cents.sum()\n",
        "data1.plot.bar()"
      ],
      "metadata": {
        "colab": {
          "base_uri": "https://localhost:8080/",
          "height": 583
        },
        "id": "ojvxaDLZEeYm",
        "outputId": "ff5382d0-1d00-4a67-f54d-e191461bf954"
      },
      "execution_count": 9,
      "outputs": [
        {
          "output_type": "execute_result",
          "data": {
            "text/plain": [
              "<Axes: xlabel='app_store_id'>"
            ]
          },
          "metadata": {},
          "execution_count": 9
        },
        {
          "output_type": "display_data",
          "data": {
            "text/plain": [
              "<Figure size 1200x600 with 1 Axes>"
            ],
            "image/png": "[encoded data removed]"
          },
          "metadata": {}
        }
      ]
    },
    {
      "cell_type": "markdown",
      "source": [
        "There are 3 major sotre in terms of total money spent for in app purchases."
      ],
      "metadata": {
        "id": "kQgtHQj8ExLS"
      }
    },
    {
      "cell_type": "code",
      "source": [
        "account_date_session.info()"
      ],
      "metadata": {
        "colab": {
          "base_uri": "https://localhost:8080/"
        },
        "id": "R0T8eBKlFsCb",
        "outputId": "5b1d6b70-2183-4e93-894d-358bb1ef65fc"
      },
      "execution_count": 10,
      "outputs": [
        {
          "output_type": "stream",
          "name": "stdout",
          "text": [
            "<class 'pandas.core.frame.DataFrame'>\n",
            "RangeIndex: 1698974 entries, 0 to 1698973\n",
            "Data columns (total 4 columns):\n",
            " #   Column                Dtype \n",
            "---  ------                ----- \n",
            " 0   account_id            object\n",
            " 1   date                  object\n",
            " 2   session_count         int64 \n",
            " 3   session_duration_sec  int64 \n",
            "dtypes: int64(2), object(2)\n",
            "memory usage: 51.8+ MB\n"
          ]
        }
      ]
    },
    {
      "cell_type": "code",
      "source": [
        "account.info()"
      ],
      "metadata": {
        "colab": {
          "base_uri": "https://localhost:8080/"
        },
        "id": "DY0fi0GDFt-J",
        "outputId": "3ec55fd7-1a6c-4538-d203-1973fe8fb79d"
      },
      "execution_count": 11,
      "outputs": [
        {
          "output_type": "stream",
          "name": "stdout",
          "text": [
            "<class 'pandas.core.frame.DataFrame'>\n",
            "RangeIndex: 112792 entries, 0 to 112791\n",
            "Data columns (total 6 columns):\n",
            " #   Column                Non-Null Count   Dtype \n",
            "---  ------                --------------   ----- \n",
            " 0   account_id            112792 non-null  object\n",
            " 1   created_time          112792 non-null  object\n",
            " 2   created_device        112792 non-null  object\n",
            " 3   created_platform      112792 non-null  object\n",
            " 4   country_code          112685 non-null  object\n",
            " 5   created_app_store_id  112792 non-null  int64 \n",
            "dtypes: int64(1), object(5)\n",
            "memory usage: 5.2+ MB\n"
          ]
        }
      ]
    },
    {
      "cell_type": "code",
      "source": [
        "merged1 = account_date_session.merge(account, on = 'account_id')\n",
        "merged1.sample(5)"
      ],
      "metadata": {
        "colab": {
          "base_uri": "https://localhost:8080/",
          "height": 206
        },
        "id": "kaxsyuADEsMF",
        "outputId": "08bff550-6c92-4870-a34a-5db65cd3d746"
      },
      "execution_count": 12,
      "outputs": [
        {
          "output_type": "execute_result",
          "data": {
            "text/plain": [
              "          account_id        date  session_count  session_duration_sec  \\\n",
              "43973    34372431220  2016-09-14              1                   444   \n",
              "11544    30076933350  2016-01-20             12                  5059   \n",
              "902167   12898769400  2016-05-10              1                   293   \n",
              "435446   12897169040  2016-02-28              3                  1647   \n",
              "1576882  47258779074  2016-05-28             14                  3024   \n",
              "\n",
              "                    created_time  created_device created_platform  \\\n",
              "43973    2016-02-06 11:19:41.403        SM-J100H          Android   \n",
              "11544    2016-01-09 20:55:18.414        SM-G925F          Android   \n",
              "902167   2016-04-16 15:49:46.492          R7Plus          Android   \n",
              "435446   2016-01-07 13:32:42.691  ZTE Blade C341          Android   \n",
              "1576882  2016-05-25 17:03:14.571         iPad5,1              iOS   \n",
              "\n",
              "        country_code  created_app_store_id  \n",
              "43973             PT                     2  \n",
              "11544             FR                     2  \n",
              "902167            CN                     7  \n",
              "435446            DE                     2  \n",
              "1576882           DE                     1  "
            ],
            "text/html": [
              "\n",
              "  <div id=\"df-da974d09-e93c-425e-8132-4ee9b1ed88ea\">\n",
              "    <div class=\"colab-df-container\">\n",
              "      <div>\n",
              "<style scoped>\n",
              "    .dataframe tbody tr th:only-of-type {\n",
              "        vertical-align: middle;\n",
              "    }\n",
              "\n",
              "    .dataframe tbody tr th {\n",
              "        vertical-align: top;\n",
              "    }\n",
              "\n",
              "    .dataframe thead th {\n",
              "        text-align: right;\n",
              "    }\n",
              "</style>\n",
              "<table border=\"1\" class=\"dataframe\">\n",
              "  <thead>\n",
              "    <tr style=\"text-align: right;\">\n",
              "      <th></th>\n",
              "      <th>account_id</th>\n",
              "      <th>date</th>\n",
              "      <th>session_count</th>\n",
              "      <th>session_duration_sec</th>\n",
              "      <th>created_time</th>\n",
              "      <th>created_device</th>\n",
              "      <th>created_platform</th>\n",
              "      <th>country_code</th>\n",
              "      <th>created_app_store_id</th>\n",
              "    </tr>\n",
              "  </thead>\n",
              "  <tbody>\n",
              "    <tr>\n",
              "      <th>43973</th>\n",
              "      <td>34372431220</td>\n",
              "      <td>2016-09-14</td>\n",
              "      <td>1</td>\n",
              "      <td>444</td>\n",
              "      <td>2016-02-06 11:19:41.403</td>\n",
              "      <td>SM-J100H</td>\n",
              "      <td>Android</td>\n",
              "      <td>PT</td>\n",
              "      <td>2</td>\n",
              "    </tr>\n",
              "    <tr>\n",
              "      <th>11544</th>\n",
              "      <td>30076933350</td>\n",
              "      <td>2016-01-20</td>\n",
              "      <td>12</td>\n",
              "      <td>5059</td>\n",
              "      <td>2016-01-09 20:55:18.414</td>\n",
              "      <td>SM-G925F</td>\n",
              "      <td>Android</td>\n",
              "      <td>FR</td>\n",
              "      <td>2</td>\n",
              "    </tr>\n",
              "    <tr>\n",
              "      <th>902167</th>\n",
              "      <td>12898769400</td>\n",
              "      <td>2016-05-10</td>\n",
              "      <td>1</td>\n",
              "      <td>293</td>\n",
              "      <td>2016-04-16 15:49:46.492</td>\n",
              "      <td>R7Plus</td>\n",
              "      <td>Android</td>\n",
              "      <td>CN</td>\n",
              "      <td>7</td>\n",
              "    </tr>\n",
              "    <tr>\n",
              "      <th>435446</th>\n",
              "      <td>12897169040</td>\n",
              "      <td>2016-02-28</td>\n",
              "      <td>3</td>\n",
              "      <td>1647</td>\n",
              "      <td>2016-01-07 13:32:42.691</td>\n",
              "      <td>ZTE Blade C341</td>\n",
              "      <td>Android</td>\n",
              "      <td>DE</td>\n",
              "      <td>2</td>\n",
              "    </tr>\n",
              "    <tr>\n",
              "      <th>1576882</th>\n",
              "      <td>47258779074</td>\n",
              "      <td>2016-05-28</td>\n",
              "      <td>14</td>\n",
              "      <td>3024</td>\n",
              "      <td>2016-05-25 17:03:14.571</td>\n",
              "      <td>iPad5,1</td>\n",
              "      <td>iOS</td>\n",
              "      <td>DE</td>\n",
              "      <td>1</td>\n",
              "    </tr>\n",
              "  </tbody>\n",
              "</table>\n",
              "</div>\n",
              "      <button class=\"colab-df-convert\" onclick=\"convertToInteractive('df-da974d09-e93c-425e-8132-4ee9b1ed88ea')\"\n",
              "              title=\"Convert this dataframe to an interactive table.\"\n",
              "              style=\"display:none;\">\n",
              "        \n",
              "  <svg xmlns=\"http://www.w3.org/2000/svg\" height=\"24px\"viewBox=\"0 0 24 24\"\n",
              "       width=\"24px\">\n",
              "    <path d=\"M0 0h24v24H0V0z\" fill=\"none\"/>\n",
              "    <path d=\"M18.56 5.44l.94 2.06.94-2.06 2.06-.94-2.06-.94-.94-2.06-.94 2.06-2.06.94zm-11 1L8.5 8.5l.94-2.06 2.06-.94-2.06-.94L8.5 2.5l-.94 2.06-2.06.94zm10 10l.94 2.06.94-2.06 2.06-.94-2.06-.94-.94-2.06-.94 2.06-2.06.94z\"/><path d=\"M17.41 7.96l-1.37-1.37c-.4-.4-.92-.59-1.43-.59-.52 0-1.04.2-1.43.59L10.3 9.45l-7.72 7.72c-.78.78-.78 2.05 0 2.83L4 21.41c.39.39.9.59 1.41.59.51 0 1.02-.2 1.41-.59l7.78-7.78 2.81-2.81c.8-.78.8-2.07 0-2.86zM5.41 20L4 18.59l7.72-7.72 1.47 1.35L5.41 20z\"/>\n",
              "  </svg>\n",
              "      </button>\n",
              "      \n",
              "  <style>\n",
              "    .colab-df-container {\n",
              "      display:flex;\n",
              "      flex-wrap:wrap;\n",
              "      gap: 12px;\n",
              "    }\n",
              "\n",
              "    .colab-df-convert {\n",
              "      background-color: #E8F0FE;\n",
              "      border: none;\n",
              "      border-radius: 50%;\n",
              "      cursor: pointer;\n",
              "      display: none;\n",
              "      fill: #1967D2;\n",
              "      height: 32px;\n",
              "      padding: 0 0 0 0;\n",
              "      width: 32px;\n",
              "    }\n",
              "\n",
              "    .colab-df-convert:hover {\n",
              "      background-color: #E2EBFA;\n",
              "      box-shadow: 0px 1px 2px rgba(60, 64, 67, 0.3), 0px 1px 3px 1px rgba(60, 64, 67, 0.15);\n",
              "      fill: #174EA6;\n",
              "    }\n",
              "\n",
              "    [theme=dark] .colab-df-convert {\n",
              "      background-color: #3B4455;\n",
              "      fill: #D2E3FC;\n",
              "    }\n",
              "\n",
              "    [theme=dark] .colab-df-convert:hover {\n",
              "      background-color: #434B5C;\n",
              "      box-shadow: 0px 1px 3px 1px rgba(0, 0, 0, 0.15);\n",
              "      filter: drop-shadow(0px 1px 2px rgba(0, 0, 0, 0.3));\n",
              "      fill: #FFFFFF;\n",
              "    }\n",
              "  </style>\n",
              "\n",
              "      <script>\n",
              "        const buttonEl =\n",
              "          document.querySelector('#df-da974d09-e93c-425e-8132-4ee9b1ed88ea button.colab-df-convert');\n",
              "        buttonEl.style.display =\n",
              "          google.colab.kernel.accessAllowed ? 'block' : 'none';\n",
              "\n",
              "        async function convertToInteractive(key) {\n",
              "          const element = document.querySelector('#df-da974d09-e93c-425e-8132-4ee9b1ed88ea');\n",
              "          const dataTable =\n",
              "            await google.colab.kernel.invokeFunction('convertToInteractive',\n",
              "                                                     [key], {});\n",
              "          if (!dataTable) return;\n",
              "\n",
              "          const docLinkHtml = 'Like what you see? Visit the ' +\n",
              "            '<a target=\"_blank\" href=https://colab.research.google.com/notebooks/data_table.ipynb>data table notebook</a>'\n",
              "            + ' to learn more about interactive tables.';\n",
              "          element.innerHTML = '';\n",
              "          dataTable['output_type'] = 'display_data';\n",
              "          await google.colab.output.renderOutput(dataTable, element);\n",
              "          const docLink = document.createElement('div');\n",
              "          docLink.innerHTML = docLinkHtml;\n",
              "          element.appendChild(docLink);\n",
              "        }\n",
              "      </script>\n",
              "    </div>\n",
              "  </div>\n",
              "  "
            ]
          },
          "metadata": {},
          "execution_count": 12
        }
      ]
    },
    {
      "cell_type": "code",
      "source": [
        "merged1[merged1['created_app_store_id'] == 0][['country_code','created_app_store_id']]"
      ],
      "metadata": {
        "colab": {
          "base_uri": "https://localhost:8080/",
          "height": 424
        },
        "id": "NEvWhwVFFXWU",
        "outputId": "2d75a337-f774-4058-83b5-ad01040f336e"
      },
      "execution_count": 13,
      "outputs": [
        {
          "output_type": "execute_result",
          "data": {
            "text/plain": [
              "        country_code  created_app_store_id\n",
              "120154            BR                     0\n",
              "120155            BR                     0\n",
              "120156            BR                     0\n",
              "120157            BR                     0\n",
              "120158            BR                     0\n",
              "...              ...                   ...\n",
              "772599            TR                     0\n",
              "772600            TR                     0\n",
              "1307217           CN                     0\n",
              "1307218           CN                     0\n",
              "1307219           CN                     0\n",
              "\n",
              "[118 rows x 2 columns]"
            ],
            "text/html": [
              "\n",
              "  <div id=\"df-582d281d-4f26-47b4-83c6-a2778e4d97a1\">\n",
              "    <div class=\"colab-df-container\">\n",
              "      <div>\n",
              "<style scoped>\n",
              "    .dataframe tbody tr th:only-of-type {\n",
              "        vertical-align: middle;\n",
              "    }\n",
              "\n",
              "    .dataframe tbody tr th {\n",
              "        vertical-align: top;\n",
              "    }\n",
              "\n",
              "    .dataframe thead th {\n",
              "        text-align: right;\n",
              "    }\n",
              "</style>\n",
              "<table border=\"1\" class=\"dataframe\">\n",
              "  <thead>\n",
              "    <tr style=\"text-align: right;\">\n",
              "      <th></th>\n",
              "      <th>country_code</th>\n",
              "      <th>created_app_store_id</th>\n",
              "    </tr>\n",
              "  </thead>\n",
              "  <tbody>\n",
              "    <tr>\n",
              "      <th>120154</th>\n",
              "      <td>BR</td>\n",
              "      <td>0</td>\n",
              "    </tr>\n",
              "    <tr>\n",
              "      <th>120155</th>\n",
              "      <td>BR</td>\n",
              "      <td>0</td>\n",
              "    </tr>\n",
              "    <tr>\n",
              "      <th>120156</th>\n",
              "      <td>BR</td>\n",
              "      <td>0</td>\n",
              "    </tr>\n",
              "    <tr>\n",
              "      <th>120157</th>\n",
              "      <td>BR</td>\n",
              "      <td>0</td>\n",
              "    </tr>\n",
              "    <tr>\n",
              "      <th>120158</th>\n",
              "      <td>BR</td>\n",
              "      <td>0</td>\n",
              "    </tr>\n",
              "    <tr>\n",
              "      <th>...</th>\n",
              "      <td>...</td>\n",
              "      <td>...</td>\n",
              "    </tr>\n",
              "    <tr>\n",
              "      <th>772599</th>\n",
              "      <td>TR</td>\n",
              "      <td>0</td>\n",
              "    </tr>\n",
              "    <tr>\n",
              "      <th>772600</th>\n",
              "      <td>TR</td>\n",
              "      <td>0</td>\n",
              "    </tr>\n",
              "    <tr>\n",
              "      <th>1307217</th>\n",
              "      <td>CN</td>\n",
              "      <td>0</td>\n",
              "    </tr>\n",
              "    <tr>\n",
              "      <th>1307218</th>\n",
              "      <td>CN</td>\n",
              "      <td>0</td>\n",
              "    </tr>\n",
              "    <tr>\n",
              "      <th>1307219</th>\n",
              "      <td>CN</td>\n",
              "      <td>0</td>\n",
              "    </tr>\n",
              "  </tbody>\n",
              "</table>\n",
              "<p>118 rows × 2 columns</p>\n",
              "</div>\n",
              "      <button class=\"colab-df-convert\" onclick=\"convertToInteractive('df-582d281d-4f26-47b4-83c6-a2778e4d97a1')\"\n",
              "              title=\"Convert this dataframe to an interactive table.\"\n",
              "              style=\"display:none;\">\n",
              "        \n",
              "  <svg xmlns=\"http://www.w3.org/2000/svg\" height=\"24px\"viewBox=\"0 0 24 24\"\n",
              "       width=\"24px\">\n",
              "    <path d=\"M0 0h24v24H0V0z\" fill=\"none\"/>\n",
              "    <path d=\"M18.56 5.44l.94 2.06.94-2.06 2.06-.94-2.06-.94-.94-2.06-.94 2.06-2.06.94zm-11 1L8.5 8.5l.94-2.06 2.06-.94-2.06-.94L8.5 2.5l-.94 2.06-2.06.94zm10 10l.94 2.06.94-2.06 2.06-.94-2.06-.94-.94-2.06-.94 2.06-2.06.94z\"/><path d=\"M17.41 7.96l-1.37-1.37c-.4-.4-.92-.59-1.43-.59-.52 0-1.04.2-1.43.59L10.3 9.45l-7.72 7.72c-.78.78-.78 2.05 0 2.83L4 21.41c.39.39.9.59 1.41.59.51 0 1.02-.2 1.41-.59l7.78-7.78 2.81-2.81c.8-.78.8-2.07 0-2.86zM5.41 20L4 18.59l7.72-7.72 1.47 1.35L5.41 20z\"/>\n",
              "  </svg>\n",
              "      </button>\n",
              "      \n",
              "  <style>\n",
              "    .colab-df-container {\n",
              "      display:flex;\n",
              "      flex-wrap:wrap;\n",
              "      gap: 12px;\n",
              "    }\n",
              "\n",
              "    .colab-df-convert {\n",
              "      background-color: #E8F0FE;\n",
              "      border: none;\n",
              "      border-radius: 50%;\n",
              "      cursor: pointer;\n",
              "      display: none;\n",
              "      fill: #1967D2;\n",
              "      height: 32px;\n",
              "      padding: 0 0 0 0;\n",
              "      width: 32px;\n",
              "    }\n",
              "\n",
              "    .colab-df-convert:hover {\n",
              "      background-color: #E2EBFA;\n",
              "      box-shadow: 0px 1px 2px rgba(60, 64, 67, 0.3), 0px 1px 3px 1px rgba(60, 64, 67, 0.15);\n",
              "      fill: #174EA6;\n",
              "    }\n",
              "\n",
              "    [theme=dark] .colab-df-convert {\n",
              "      background-color: #3B4455;\n",
              "      fill: #D2E3FC;\n",
              "    }\n",
              "\n",
              "    [theme=dark] .colab-df-convert:hover {\n",
              "      background-color: #434B5C;\n",
              "      box-shadow: 0px 1px 3px 1px rgba(0, 0, 0, 0.15);\n",
              "      filter: drop-shadow(0px 1px 2px rgba(0, 0, 0, 0.3));\n",
              "      fill: #FFFFFF;\n",
              "    }\n",
              "  </style>\n",
              "\n",
              "      <script>\n",
              "        const buttonEl =\n",
              "          document.querySelector('#df-582d281d-4f26-47b4-83c6-a2778e4d97a1 button.colab-df-convert');\n",
              "        buttonEl.style.display =\n",
              "          google.colab.kernel.accessAllowed ? 'block' : 'none';\n",
              "\n",
              "        async function convertToInteractive(key) {\n",
              "          const element = document.querySelector('#df-582d281d-4f26-47b4-83c6-a2778e4d97a1');\n",
              "          const dataTable =\n",
              "            await google.colab.kernel.invokeFunction('convertToInteractive',\n",
              "                                                     [key], {});\n",
              "          if (!dataTable) return;\n",
              "\n",
              "          const docLinkHtml = 'Like what you see? Visit the ' +\n",
              "            '<a target=\"_blank\" href=https://colab.research.google.com/notebooks/data_table.ipynb>data table notebook</a>'\n",
              "            + ' to learn more about interactive tables.';\n",
              "          element.innerHTML = '';\n",
              "          dataTable['output_type'] = 'display_data';\n",
              "          await google.colab.output.renderOutput(dataTable, element);\n",
              "          const docLink = document.createElement('div');\n",
              "          docLink.innerHTML = docLinkHtml;\n",
              "          element.appendChild(docLink);\n",
              "        }\n",
              "      </script>\n",
              "    </div>\n",
              "  </div>\n",
              "  "
            ]
          },
          "metadata": {},
          "execution_count": 13
        }
      ]
    },
    {
      "cell_type": "code",
      "source": [
        "account.groupby(by = 'created_app_store_id').account_id.nunique().plot.bar()"
      ],
      "metadata": {
        "colab": {
          "base_uri": "https://localhost:8080/",
          "height": 568
        },
        "id": "cf3QR0JxG7P9",
        "outputId": "c38e50a7-d2bd-4ece-c195-cf65d299ceb2"
      },
      "execution_count": 16,
      "outputs": [
        {
          "output_type": "execute_result",
          "data": {
            "text/plain": [
              "<Axes: xlabel='created_app_store_id'>"
            ]
          },
          "metadata": {},
          "execution_count": 16
        },
        {
          "output_type": "display_data",
          "data": {
            "text/plain": [
              "<Figure size 1200x600 with 1 Axes>"
            ],
            "image/png": "[encoded data removed]"
          },
          "metadata": {}
        }
      ]
    },
    {
      "cell_type": "markdown",
      "source": [
        "See 2 major app store ids that have a lot more users than other stores.\n"
      ],
      "metadata": {
        "id": "rf1PURtZk1fw"
      }
    },
    {
      "cell_type": "code",
      "source": [
        "iap_purchase.merge(account, on = 'account_id').groupby(by = 'country_code').iap_price_usd_cents.sum().plot.bar()"
      ],
      "metadata": {
        "colab": {
          "base_uri": "https://localhost:8080/",
          "height": 587
        },
        "id": "XQwMI3PzHwwC",
        "outputId": "b82a0dc9-f8d9-4346-b753-0f4c5c18bc12"
      },
      "execution_count": 17,
      "outputs": [
        {
          "output_type": "execute_result",
          "data": {
            "text/plain": [
              "<Axes: xlabel='country_code'>"
            ]
          },
          "metadata": {},
          "execution_count": 17
        },
        {
          "output_type": "display_data",
          "data": {
            "text/plain": [
              "<Figure size 1200x600 with 1 Axes>"
            ],
            "image/png": "[encoded data removed]"
          },
          "metadata": {}
        }
      ]
    },
    {
      "cell_type": "code",
      "source": [
        "account.groupby(by = 'country_code').account_id.nunique().sort_values(ascending=False)[0:10].plot.bar()"
      ],
      "metadata": {
        "colab": {
          "base_uri": "https://localhost:8080/",
          "height": 570
        },
        "id": "jH5UNZzbIYXR",
        "outputId": "00a10b43-1a5e-4979-93e1-ac26dee04348"
      },
      "execution_count": 19,
      "outputs": [
        {
          "output_type": "execute_result",
          "data": {
            "text/plain": [
              "<Axes: xlabel='country_code'>"
            ]
          },
          "metadata": {},
          "execution_count": 19
        },
        {
          "output_type": "display_data",
          "data": {
            "text/plain": [
              "<Figure size 1200x600 with 1 Axes>"
            ],
            "image/png": "[encoded data removed]"
          },
          "metadata": {}
        }
      ]
    },
    {
      "cell_type": "markdown",
      "source": [
        "China and US have more users than other countires. China specially has a lot users. "
      ],
      "metadata": {
        "id": "JwUwhmt_lNDf"
      }
    },
    {
      "cell_type": "markdown",
      "source": [
        "Task 1. LTV\n",
        "\n",
        "Define lifetime revenue, a short definition will do.\n",
        "What proportion of lifetime revenue is generated on the player's first week in\n",
        "game?\n",
        "How would you assess if the LTV has gone down from January to December\n",
        "based on the given data?"
      ],
      "metadata": {
        "id": "6ViUjBmNLaKV"
      }
    },
    {
      "cell_type": "markdown",
      "source": [
        "Lifetime revenue = the total amount in app purchases made by a users for his whole journey"
      ],
      "metadata": {
        "id": "_SlYXWt1Lcia"
      }
    },
    {
      "cell_type": "code",
      "source": [
        "iap_purchase.groupby('account_id').iap_price_usd_cents.sum()"
      ],
      "metadata": {
        "colab": {
          "base_uri": "https://localhost:8080/"
        },
        "id": "iP5jq_0NI7GV",
        "outputId": "f72c820e-b56e-4655-bf64-95a432b9e5e9"
      },
      "execution_count": 20,
      "outputs": [
        {
          "output_type": "execute_result",
          "data": {
            "text/plain": [
              "account_id\n",
              "12322622        328\n",
              "12336472      18107\n",
              "12348106       1105\n",
              "12352080        184\n",
              "12365400       1728\n",
              "              ...  \n",
              "8606270064     3322\n",
              "8606366720     1477\n",
              "8606420372      110\n",
              "8606455880      474\n",
              "8606555188      184\n",
              "Name: iap_price_usd_cents, Length: 1549, dtype: int64"
            ]
          },
          "metadata": {},
          "execution_count": 20
        }
      ]
    },
    {
      "cell_type": "code",
      "source": [
        "data2 = pd.read_sql_query(\"SELECT account.account_id, account.created_time as account_created_time, iap_purchase.created_time, iap_price_usd_cents from account join iap_purchase on account.account_id = iap_purchase.account_id\", cnx)"
      ],
      "metadata": {
        "id": "KwAOvTrFL1NL"
      },
      "execution_count": 21,
      "outputs": []
    },
    {
      "cell_type": "code",
      "source": [
        "data2.sample(5)"
      ],
      "metadata": {
        "colab": {
          "base_uri": "https://localhost:8080/",
          "height": 206
        },
        "id": "MUlwgR5CMzcv",
        "outputId": "58f56da8-ef15-4a3c-f9be-f68a5f6a1edc"
      },
      "execution_count": 22,
      "outputs": [
        {
          "output_type": "execute_result",
          "data": {
            "text/plain": [
              "       account_id     account_created_time             created_time  \\\n",
              "9503   4309071360  2016-04-16 02:26:34.115  2016-08-22 10:41:12.832   \n",
              "7616  25783032456   2016-02-28 14:55:58.22  2016-03-05 14:19:57.047   \n",
              "4200  68731230030  2016-01-18 07:08:27.156  2016-03-23 14:13:40.491   \n",
              "5114  42963423580  2016-04-21 03:31:57.439  2016-07-12 04:22:54.569   \n",
              "3716  17194475826  2016-06-21 08:59:57.534  2016-07-01 14:31:24.161   \n",
              "\n",
              "      iap_price_usd_cents  \n",
              "9503                  184  \n",
              "7616                   36  \n",
              "4200                   36  \n",
              "5114                   36  \n",
              "3716                  184  "
            ],
            "text/html": [
              "\n",
              "  <div id=\"df-992a6611-77a1-4973-b857-61cb31565ab5\">\n",
              "    <div class=\"colab-df-container\">\n",
              "      <div>\n",
              "<style scoped>\n",
              "    .dataframe tbody tr th:only-of-type {\n",
              "        vertical-align: middle;\n",
              "    }\n",
              "\n",
              "    .dataframe tbody tr th {\n",
              "        vertical-align: top;\n",
              "    }\n",
              "\n",
              "    .dataframe thead th {\n",
              "        text-align: right;\n",
              "    }\n",
              "</style>\n",
              "<table border=\"1\" class=\"dataframe\">\n",
              "  <thead>\n",
              "    <tr style=\"text-align: right;\">\n",
              "      <th></th>\n",
              "      <th>account_id</th>\n",
              "      <th>account_created_time</th>\n",
              "      <th>created_time</th>\n",
              "      <th>iap_price_usd_cents</th>\n",
              "    </tr>\n",
              "  </thead>\n",
              "  <tbody>\n",
              "    <tr>\n",
              "      <th>9503</th>\n",
              "      <td>4309071360</td>\n",
              "      <td>2016-04-16 02:26:34.115</td>\n",
              "      <td>2016-08-22 10:41:12.832</td>\n",
              "      <td>184</td>\n",
              "    </tr>\n",
              "    <tr>\n",
              "      <th>7616</th>\n",
              "      <td>25783032456</td>\n",
              "      <td>2016-02-28 14:55:58.22</td>\n",
              "      <td>2016-03-05 14:19:57.047</td>\n",
              "      <td>36</td>\n",
              "    </tr>\n",
              "    <tr>\n",
              "      <th>4200</th>\n",
              "      <td>68731230030</td>\n",
              "      <td>2016-01-18 07:08:27.156</td>\n",
              "      <td>2016-03-23 14:13:40.491</td>\n",
              "      <td>36</td>\n",
              "    </tr>\n",
              "    <tr>\n",
              "      <th>5114</th>\n",
              "      <td>42963423580</td>\n",
              "      <td>2016-04-21 03:31:57.439</td>\n",
              "      <td>2016-07-12 04:22:54.569</td>\n",
              "      <td>36</td>\n",
              "    </tr>\n",
              "    <tr>\n",
              "      <th>3716</th>\n",
              "      <td>17194475826</td>\n",
              "      <td>2016-06-21 08:59:57.534</td>\n",
              "      <td>2016-07-01 14:31:24.161</td>\n",
              "      <td>184</td>\n",
              "    </tr>\n",
              "  </tbody>\n",
              "</table>\n",
              "</div>\n",
              "      <button class=\"colab-df-convert\" onclick=\"convertToInteractive('df-992a6611-77a1-4973-b857-61cb31565ab5')\"\n",
              "              title=\"Convert this dataframe to an interactive table.\"\n",
              "              style=\"display:none;\">\n",
              "        \n",
              "  <svg xmlns=\"http://www.w3.org/2000/svg\" height=\"24px\"viewBox=\"0 0 24 24\"\n",
              "       width=\"24px\">\n",
              "    <path d=\"M0 0h24v24H0V0z\" fill=\"none\"/>\n",
              "    <path d=\"M18.56 5.44l.94 2.06.94-2.06 2.06-.94-2.06-.94-.94-2.06-.94 2.06-2.06.94zm-11 1L8.5 8.5l.94-2.06 2.06-.94-2.06-.94L8.5 2.5l-.94 2.06-2.06.94zm10 10l.94 2.06.94-2.06 2.06-.94-2.06-.94-.94-2.06-.94 2.06-2.06.94z\"/><path d=\"M17.41 7.96l-1.37-1.37c-.4-.4-.92-.59-1.43-.59-.52 0-1.04.2-1.43.59L10.3 9.45l-7.72 7.72c-.78.78-.78 2.05 0 2.83L4 21.41c.39.39.9.59 1.41.59.51 0 1.02-.2 1.41-.59l7.78-7.78 2.81-2.81c.8-.78.8-2.07 0-2.86zM5.41 20L4 18.59l7.72-7.72 1.47 1.35L5.41 20z\"/>\n",
              "  </svg>\n",
              "      </button>\n",
              "      \n",
              "  <style>\n",
              "    .colab-df-container {\n",
              "      display:flex;\n",
              "      flex-wrap:wrap;\n",
              "      gap: 12px;\n",
              "    }\n",
              "\n",
              "    .colab-df-convert {\n",
              "      background-color: #E8F0FE;\n",
              "      border: none;\n",
              "      border-radius: 50%;\n",
              "      cursor: pointer;\n",
              "      display: none;\n",
              "      fill: #1967D2;\n",
              "      height: 32px;\n",
              "      padding: 0 0 0 0;\n",
              "      width: 32px;\n",
              "    }\n",
              "\n",
              "    .colab-df-convert:hover {\n",
              "      background-color: #E2EBFA;\n",
              "      box-shadow: 0px 1px 2px rgba(60, 64, 67, 0.3), 0px 1px 3px 1px rgba(60, 64, 67, 0.15);\n",
              "      fill: #174EA6;\n",
              "    }\n",
              "\n",
              "    [theme=dark] .colab-df-convert {\n",
              "      background-color: #3B4455;\n",
              "      fill: #D2E3FC;\n",
              "    }\n",
              "\n",
              "    [theme=dark] .colab-df-convert:hover {\n",
              "      background-color: #434B5C;\n",
              "      box-shadow: 0px 1px 3px 1px rgba(0, 0, 0, 0.15);\n",
              "      filter: drop-shadow(0px 1px 2px rgba(0, 0, 0, 0.3));\n",
              "      fill: #FFFFFF;\n",
              "    }\n",
              "  </style>\n",
              "\n",
              "      <script>\n",
              "        const buttonEl =\n",
              "          document.querySelector('#df-992a6611-77a1-4973-b857-61cb31565ab5 button.colab-df-convert');\n",
              "        buttonEl.style.display =\n",
              "          google.colab.kernel.accessAllowed ? 'block' : 'none';\n",
              "\n",
              "        async function convertToInteractive(key) {\n",
              "          const element = document.querySelector('#df-992a6611-77a1-4973-b857-61cb31565ab5');\n",
              "          const dataTable =\n",
              "            await google.colab.kernel.invokeFunction('convertToInteractive',\n",
              "                                                     [key], {});\n",
              "          if (!dataTable) return;\n",
              "\n",
              "          const docLinkHtml = 'Like what you see? Visit the ' +\n",
              "            '<a target=\"_blank\" href=https://colab.research.google.com/notebooks/data_table.ipynb>data table notebook</a>'\n",
              "            + ' to learn more about interactive tables.';\n",
              "          element.innerHTML = '';\n",
              "          dataTable['output_type'] = 'display_data';\n",
              "          await google.colab.output.renderOutput(dataTable, element);\n",
              "          const docLink = document.createElement('div');\n",
              "          docLink.innerHTML = docLinkHtml;\n",
              "          element.appendChild(docLink);\n",
              "        }\n",
              "      </script>\n",
              "    </div>\n",
              "  </div>\n",
              "  "
            ]
          },
          "metadata": {},
          "execution_count": 22
        }
      ]
    },
    {
      "cell_type": "code",
      "source": [
        "data2.info()"
      ],
      "metadata": {
        "colab": {
          "base_uri": "https://localhost:8080/"
        },
        "id": "isHpV63oSwrK",
        "outputId": "16281b5a-b609-4299-e1f4-c0136fb19abc"
      },
      "execution_count": 23,
      "outputs": [
        {
          "output_type": "stream",
          "name": "stdout",
          "text": [
            "<class 'pandas.core.frame.DataFrame'>\n",
            "RangeIndex: 9909 entries, 0 to 9908\n",
            "Data columns (total 4 columns):\n",
            " #   Column                Non-Null Count  Dtype \n",
            "---  ------                --------------  ----- \n",
            " 0   account_id            9909 non-null   object\n",
            " 1   account_created_time  9909 non-null   object\n",
            " 2   created_time          9909 non-null   object\n",
            " 3   iap_price_usd_cents   9909 non-null   int64 \n",
            "dtypes: int64(1), object(3)\n",
            "memory usage: 309.8+ KB\n"
          ]
        }
      ]
    },
    {
      "cell_type": "code",
      "source": [
        "data2['created_time'] = pd.to_datetime(data2['created_time'])\n",
        "data2['account_created_time'] = pd.to_datetime(data2['account_created_time'])"
      ],
      "metadata": {
        "id": "9Zg4_MCrSzOG"
      },
      "execution_count": 24,
      "outputs": []
    },
    {
      "cell_type": "code",
      "source": [
        "import datetime"
      ],
      "metadata": {
        "id": "z5stNRiUSlPG"
      },
      "execution_count": 25,
      "outputs": []
    },
    {
      "cell_type": "code",
      "source": [
        "data2[data2['created_time'] < data2['account_created_time'] + datetime.timedelta(days = 7)].groupby(by = 'account_id').iap_price_usd_cents.sum()"
      ],
      "metadata": {
        "colab": {
          "base_uri": "https://localhost:8080/"
        },
        "id": "x4oVhf-SR603",
        "outputId": "e8c8645a-04a7-4c03-b290-2fb5f6c8f6b2"
      },
      "execution_count": 26,
      "outputs": [
        {
          "output_type": "execute_result",
          "data": {
            "text/plain": [
              "account_id\n",
              "12322622       328\n",
              "12348106      1105\n",
              "12365955       923\n",
              "12384825      3128\n",
              "12392128        72\n",
              "              ... \n",
              "8606270064    3322\n",
              "8606366720    1477\n",
              "8606420372     110\n",
              "8606455880     438\n",
              "8606555188     184\n",
              "Name: iap_price_usd_cents, Length: 858, dtype: int64"
            ]
          },
          "metadata": {},
          "execution_count": 26
        }
      ]
    },
    {
      "cell_type": "code",
      "source": [
        "data2.groupby(by = 'account_id').iap_price_usd_cents.sum()"
      ],
      "metadata": {
        "colab": {
          "base_uri": "https://localhost:8080/"
        },
        "id": "EtGVXGVUSAAu",
        "outputId": "edacc46f-04b5-4fef-b509-dea8915d9586"
      },
      "execution_count": 27,
      "outputs": [
        {
          "output_type": "execute_result",
          "data": {
            "text/plain": [
              "account_id\n",
              "12322622        328\n",
              "12336472      18107\n",
              "12348106       1105\n",
              "12352080        184\n",
              "12365400       1728\n",
              "              ...  \n",
              "8606270064     3322\n",
              "8606366720     1477\n",
              "8606420372      110\n",
              "8606455880      474\n",
              "8606555188      184\n",
              "Name: iap_price_usd_cents, Length: 1549, dtype: int64"
            ]
          },
          "metadata": {},
          "execution_count": 27
        }
      ]
    },
    {
      "cell_type": "code",
      "source": [
        "set1 = data2[data2['created_time'] <= data2['account_created_time'] + datetime.timedelta(days = 7)].groupby(by = 'account_id').iap_price_usd_cents.sum()\n",
        "set2 = data2.groupby(by = 'account_id').iap_price_usd_cents.sum()\n",
        "\n"
      ],
      "metadata": {
        "id": "fsfKdeuuKpSX"
      },
      "execution_count": 28,
      "outputs": []
    },
    {
      "cell_type": "code",
      "source": [
        "import statistics\n",
        "statistics.mean(set1)/statistics.mean(set2)"
      ],
      "metadata": {
        "colab": {
          "base_uri": "https://localhost:8080/"
        },
        "id": "Nmn6_ol3K3JO",
        "outputId": "032f23af-2616-4481-b4d6-28984844aea7"
      },
      "execution_count": 29,
      "outputs": [
        {
          "output_type": "execute_result",
          "data": {
            "text/plain": [
              "0.3242495078248449"
            ]
          },
          "metadata": {},
          "execution_count": 29
        }
      ]
    },
    {
      "cell_type": "markdown",
      "source": [
        "The first week of purchases accounts for roughly 32% of the LTV. "
      ],
      "metadata": {
        "id": "0GCuYgoznNd2"
      }
    },
    {
      "cell_type": "code",
      "source": [
        "data2.sample(5)"
      ],
      "metadata": {
        "colab": {
          "base_uri": "https://localhost:8080/",
          "height": 206
        },
        "id": "4zuLy3kTMeqz",
        "outputId": "29c5787f-2856-4cb7-93c4-5047a4e42a1f"
      },
      "execution_count": 30,
      "outputs": [
        {
          "output_type": "execute_result",
          "data": {
            "text/plain": [
              "       account_id    account_created_time            created_time  \\\n",
              "2080  34372736448 2016-02-24 11:06:20.231 2016-07-04 14:14:23.271   \n",
              "2395  42961616490 2016-01-02 01:55:33.219 2016-05-07 05:47:18.278   \n",
              "9764   8602747976 2016-02-03 21:46:31.048 2016-02-25 09:00:28.943   \n",
              "1631  47256657572 2016-01-04 03:40:31.702 2016-11-20 06:52:25.080   \n",
              "5152  42963423580 2016-04-21 03:31:57.439 2016-10-27 15:20:46.229   \n",
              "\n",
              "      iap_price_usd_cents  \n",
              "2080                  369  \n",
              "2395                  739  \n",
              "9764                 1849  \n",
              "1631                  739  \n",
              "5152                   36  "
            ],
            "text/html": [
              "\n",
              "  <div id=\"df-79a04ba3-dd96-48dd-859f-4883ab8d9ef1\">\n",
              "    <div class=\"colab-df-container\">\n",
              "      <div>\n",
              "<style scoped>\n",
              "    .dataframe tbody tr th:only-of-type {\n",
              "        vertical-align: middle;\n",
              "    }\n",
              "\n",
              "    .dataframe tbody tr th {\n",
              "        vertical-align: top;\n",
              "    }\n",
              "\n",
              "    .dataframe thead th {\n",
              "        text-align: right;\n",
              "    }\n",
              "</style>\n",
              "<table border=\"1\" class=\"dataframe\">\n",
              "  <thead>\n",
              "    <tr style=\"text-align: right;\">\n",
              "      <th></th>\n",
              "      <th>account_id</th>\n",
              "      <th>account_created_time</th>\n",
              "      <th>created_time</th>\n",
              "      <th>iap_price_usd_cents</th>\n",
              "    </tr>\n",
              "  </thead>\n",
              "  <tbody>\n",
              "    <tr>\n",
              "      <th>2080</th>\n",
              "      <td>34372736448</td>\n",
              "      <td>2016-02-24 11:06:20.231</td>\n",
              "      <td>2016-07-04 14:14:23.271</td>\n",
              "      <td>369</td>\n",
              "    </tr>\n",
              "    <tr>\n",
              "      <th>2395</th>\n",
              "      <td>42961616490</td>\n",
              "      <td>2016-01-02 01:55:33.219</td>\n",
              "      <td>2016-05-07 05:47:18.278</td>\n",
              "      <td>739</td>\n",
              "    </tr>\n",
              "    <tr>\n",
              "      <th>9764</th>\n",
              "      <td>8602747976</td>\n",
              "      <td>2016-02-03 21:46:31.048</td>\n",
              "      <td>2016-02-25 09:00:28.943</td>\n",
              "      <td>1849</td>\n",
              "    </tr>\n",
              "    <tr>\n",
              "      <th>1631</th>\n",
              "      <td>47256657572</td>\n",
              "      <td>2016-01-04 03:40:31.702</td>\n",
              "      <td>2016-11-20 06:52:25.080</td>\n",
              "      <td>739</td>\n",
              "    </tr>\n",
              "    <tr>\n",
              "      <th>5152</th>\n",
              "      <td>42963423580</td>\n",
              "      <td>2016-04-21 03:31:57.439</td>\n",
              "      <td>2016-10-27 15:20:46.229</td>\n",
              "      <td>36</td>\n",
              "    </tr>\n",
              "  </tbody>\n",
              "</table>\n",
              "</div>\n",
              "      <button class=\"colab-df-convert\" onclick=\"convertToInteractive('df-79a04ba3-dd96-48dd-859f-4883ab8d9ef1')\"\n",
              "              title=\"Convert this dataframe to an interactive table.\"\n",
              "              style=\"display:none;\">\n",
              "        \n",
              "  <svg xmlns=\"http://www.w3.org/2000/svg\" height=\"24px\"viewBox=\"0 0 24 24\"\n",
              "       width=\"24px\">\n",
              "    <path d=\"M0 0h24v24H0V0z\" fill=\"none\"/>\n",
              "    <path d=\"M18.56 5.44l.94 2.06.94-2.06 2.06-.94-2.06-.94-.94-2.06-.94 2.06-2.06.94zm-11 1L8.5 8.5l.94-2.06 2.06-.94-2.06-.94L8.5 2.5l-.94 2.06-2.06.94zm10 10l.94 2.06.94-2.06 2.06-.94-2.06-.94-.94-2.06-.94 2.06-2.06.94z\"/><path d=\"M17.41 7.96l-1.37-1.37c-.4-.4-.92-.59-1.43-.59-.52 0-1.04.2-1.43.59L10.3 9.45l-7.72 7.72c-.78.78-.78 2.05 0 2.83L4 21.41c.39.39.9.59 1.41.59.51 0 1.02-.2 1.41-.59l7.78-7.78 2.81-2.81c.8-.78.8-2.07 0-2.86zM5.41 20L4 18.59l7.72-7.72 1.47 1.35L5.41 20z\"/>\n",
              "  </svg>\n",
              "      </button>\n",
              "      \n",
              "  <style>\n",
              "    .colab-df-container {\n",
              "      display:flex;\n",
              "      flex-wrap:wrap;\n",
              "      gap: 12px;\n",
              "    }\n",
              "\n",
              "    .colab-df-convert {\n",
              "      background-color: #E8F0FE;\n",
              "      border: none;\n",
              "      border-radius: 50%;\n",
              "      cursor: pointer;\n",
              "      display: none;\n",
              "      fill: #1967D2;\n",
              "      height: 32px;\n",
              "      padding: 0 0 0 0;\n",
              "      width: 32px;\n",
              "    }\n",
              "\n",
              "    .colab-df-convert:hover {\n",
              "      background-color: #E2EBFA;\n",
              "      box-shadow: 0px 1px 2px rgba(60, 64, 67, 0.3), 0px 1px 3px 1px rgba(60, 64, 67, 0.15);\n",
              "      fill: #174EA6;\n",
              "    }\n",
              "\n",
              "    [theme=dark] .colab-df-convert {\n",
              "      background-color: #3B4455;\n",
              "      fill: #D2E3FC;\n",
              "    }\n",
              "\n",
              "    [theme=dark] .colab-df-convert:hover {\n",
              "      background-color: #434B5C;\n",
              "      box-shadow: 0px 1px 3px 1px rgba(0, 0, 0, 0.15);\n",
              "      filter: drop-shadow(0px 1px 2px rgba(0, 0, 0, 0.3));\n",
              "      fill: #FFFFFF;\n",
              "    }\n",
              "  </style>\n",
              "\n",
              "      <script>\n",
              "        const buttonEl =\n",
              "          document.querySelector('#df-79a04ba3-dd96-48dd-859f-4883ab8d9ef1 button.colab-df-convert');\n",
              "        buttonEl.style.display =\n",
              "          google.colab.kernel.accessAllowed ? 'block' : 'none';\n",
              "\n",
              "        async function convertToInteractive(key) {\n",
              "          const element = document.querySelector('#df-79a04ba3-dd96-48dd-859f-4883ab8d9ef1');\n",
              "          const dataTable =\n",
              "            await google.colab.kernel.invokeFunction('convertToInteractive',\n",
              "                                                     [key], {});\n",
              "          if (!dataTable) return;\n",
              "\n",
              "          const docLinkHtml = 'Like what you see? Visit the ' +\n",
              "            '<a target=\"_blank\" href=https://colab.research.google.com/notebooks/data_table.ipynb>data table notebook</a>'\n",
              "            + ' to learn more about interactive tables.';\n",
              "          element.innerHTML = '';\n",
              "          dataTable['output_type'] = 'display_data';\n",
              "          await google.colab.output.renderOutput(dataTable, element);\n",
              "          const docLink = document.createElement('div');\n",
              "          docLink.innerHTML = docLinkHtml;\n",
              "          element.appendChild(docLink);\n",
              "        }\n",
              "      </script>\n",
              "    </div>\n",
              "  </div>\n",
              "  "
            ]
          },
          "metadata": {},
          "execution_count": 30
        }
      ]
    },
    {
      "cell_type": "code",
      "source": [
        "data2[data2['created_time'].dt.month == 1].iap_price_usd_cents.sum()"
      ],
      "metadata": {
        "colab": {
          "base_uri": "https://localhost:8080/"
        },
        "id": "-ndZPgrVLDJe",
        "outputId": "1abb06a2-c08d-4b0b-8453-4c026396a8d8"
      },
      "execution_count": 31,
      "outputs": [
        {
          "output_type": "execute_result",
          "data": {
            "text/plain": [
              "593520"
            ]
          },
          "metadata": {},
          "execution_count": 31
        }
      ]
    },
    {
      "cell_type": "code",
      "source": [
        "data2[data2['created_time'].dt.month == 12].iap_price_usd_cents.sum()"
      ],
      "metadata": {
        "colab": {
          "base_uri": "https://localhost:8080/"
        },
        "id": "EE1M_GmBM2IJ",
        "outputId": "50ed8964-bd8f-45a2-b9b4-36d25ef4c6b1"
      },
      "execution_count": 32,
      "outputs": [
        {
          "output_type": "execute_result",
          "data": {
            "text/plain": [
              "261343"
            ]
          },
          "metadata": {},
          "execution_count": 32
        }
      ]
    },
    {
      "cell_type": "code",
      "source": [
        "data2['month_number'] = data2['created_time'].dt.month"
      ],
      "metadata": {
        "id": "Ojsz2HldNIBQ"
      },
      "execution_count": 33,
      "outputs": []
    },
    {
      "cell_type": "code",
      "source": [
        "data2.groupby(by = 'month_number').iap_price_usd_cents.sum()"
      ],
      "metadata": {
        "colab": {
          "base_uri": "https://localhost:8080/"
        },
        "id": "rm6p8WdHNW7q",
        "outputId": "4b0e4a8b-1159-4e44-acdc-89bfa7600f61"
      },
      "execution_count": 34,
      "outputs": [
        {
          "output_type": "execute_result",
          "data": {
            "text/plain": [
              "month_number\n",
              "1     593520\n",
              "2     534301\n",
              "3     430248\n",
              "4     347749\n",
              "5     299593\n",
              "6     304555\n",
              "7     315035\n",
              "8     274350\n",
              "9     228084\n",
              "10    343680\n",
              "11    319404\n",
              "12    261343\n",
              "Name: iap_price_usd_cents, dtype: int64"
            ]
          },
          "metadata": {},
          "execution_count": 34
        }
      ]
    },
    {
      "cell_type": "code",
      "source": [
        "data2.groupby(by = 'month_number').iap_price_usd_cents.sum().plot()"
      ],
      "metadata": {
        "colab": {
          "base_uri": "https://localhost:8080/",
          "height": 564
        },
        "id": "6sIMih6cNdQT",
        "outputId": "680334d5-2fe2-45f6-c4d4-e8f2bc4d534b"
      },
      "execution_count": 35,
      "outputs": [
        {
          "output_type": "execute_result",
          "data": {
            "text/plain": [
              "<Axes: xlabel='month_number'>"
            ]
          },
          "metadata": {},
          "execution_count": 35
        },
        {
          "output_type": "display_data",
          "data": {
            "text/plain": [
              "<Figure size 1200x600 with 1 Axes>"
            ],
            "image/png": "[encoded data removed]"
          },
          "metadata": {}
        }
      ]
    },
    {
      "cell_type": "code",
      "source": [
        "merged1.sample(5)"
      ],
      "metadata": {
        "colab": {
          "base_uri": "https://localhost:8080/",
          "height": 206
        },
        "id": "cX1Y7nexNhUB",
        "outputId": "908ba480-2d56-46a9-ee12-34134a780277"
      },
      "execution_count": 36,
      "outputs": [
        {
          "output_type": "execute_result",
          "data": {
            "text/plain": [
              "          account_id        date  session_count  session_duration_sec  \\\n",
              "1373918  60143001990  2016-12-30              4                  3114   \n",
              "1158357  47258937660  2016-06-17             21                  9422   \n",
              "488579   34372147025  2016-10-31              2                  1176   \n",
              "1067906   4309171808  2016-08-13              1                   338   \n",
              "1473583  47260441641  2016-11-15              1                   330   \n",
              "\n",
              "                    created_time created_device created_platform country_code  \\\n",
              "1373918  2016-05-16 02:38:26.661          MI 3C          Android           CN   \n",
              "1158357  2016-06-08 16:00:59.264        iPad5,3              iOS           CN   \n",
              "488579   2016-01-22 10:18:43.755      iPhone7,1              iOS           KR   \n",
              "1067906  2016-04-24 10:42:58.741       vivo X6L          Android           CN   \n",
              "1473583  2016-10-22 11:07:53.765       vivo X6L          Android           CN   \n",
              "\n",
              "         created_app_store_id  \n",
              "1373918                     6  \n",
              "1158357                     1  \n",
              "488579                      1  \n",
              "1067906                    16  \n",
              "1473583                     4  "
            ],
            "text/html": [
              "\n",
              "  <div id=\"df-c63e677f-dd72-47b1-b3d0-b583cd5b2c93\">\n",
              "    <div class=\"colab-df-container\">\n",
              "      <div>\n",
              "<style scoped>\n",
              "    .dataframe tbody tr th:only-of-type {\n",
              "        vertical-align: middle;\n",
              "    }\n",
              "\n",
              "    .dataframe tbody tr th {\n",
              "        vertical-align: top;\n",
              "    }\n",
              "\n",
              "    .dataframe thead th {\n",
              "        text-align: right;\n",
              "    }\n",
              "</style>\n",
              "<table border=\"1\" class=\"dataframe\">\n",
              "  <thead>\n",
              "    <tr style=\"text-align: right;\">\n",
              "      <th></th>\n",
              "      <th>account_id</th>\n",
              "      <th>date</th>\n",
              "      <th>session_count</th>\n",
              "      <th>session_duration_sec</th>\n",
              "      <th>created_time</th>\n",
              "      <th>created_device</th>\n",
              "      <th>created_platform</th>\n",
              "      <th>country_code</th>\n",
              "      <th>created_app_store_id</th>\n",
              "    </tr>\n",
              "  </thead>\n",
              "  <tbody>\n",
              "    <tr>\n",
              "      <th>1373918</th>\n",
              "      <td>60143001990</td>\n",
              "      <td>2016-12-30</td>\n",
              "      <td>4</td>\n",
              "      <td>3114</td>\n",
              "      <td>2016-05-16 02:38:26.661</td>\n",
              "      <td>MI 3C</td>\n",
              "      <td>Android</td>\n",
              "      <td>CN</td>\n",
              "      <td>6</td>\n",
              "    </tr>\n",
              "    <tr>\n",
              "      <th>1158357</th>\n",
              "      <td>47258937660</td>\n",
              "      <td>2016-06-17</td>\n",
              "      <td>21</td>\n",
              "      <td>9422</td>\n",
              "      <td>2016-06-08 16:00:59.264</td>\n",
              "      <td>iPad5,3</td>\n",
              "      <td>iOS</td>\n",
              "      <td>CN</td>\n",
              "      <td>1</td>\n",
              "    </tr>\n",
              "    <tr>\n",
              "      <th>488579</th>\n",
              "      <td>34372147025</td>\n",
              "      <td>2016-10-31</td>\n",
              "      <td>2</td>\n",
              "      <td>1176</td>\n",
              "      <td>2016-01-22 10:18:43.755</td>\n",
              "      <td>iPhone7,1</td>\n",
              "      <td>iOS</td>\n",
              "      <td>KR</td>\n",
              "      <td>1</td>\n",
              "    </tr>\n",
              "    <tr>\n",
              "      <th>1067906</th>\n",
              "      <td>4309171808</td>\n",
              "      <td>2016-08-13</td>\n",
              "      <td>1</td>\n",
              "      <td>338</td>\n",
              "      <td>2016-04-24 10:42:58.741</td>\n",
              "      <td>vivo X6L</td>\n",
              "      <td>Android</td>\n",
              "      <td>CN</td>\n",
              "      <td>16</td>\n",
              "    </tr>\n",
              "    <tr>\n",
              "      <th>1473583</th>\n",
              "      <td>47260441641</td>\n",
              "      <td>2016-11-15</td>\n",
              "      <td>1</td>\n",
              "      <td>330</td>\n",
              "      <td>2016-10-22 11:07:53.765</td>\n",
              "      <td>vivo X6L</td>\n",
              "      <td>Android</td>\n",
              "      <td>CN</td>\n",
              "      <td>4</td>\n",
              "    </tr>\n",
              "  </tbody>\n",
              "</table>\n",
              "</div>\n",
              "      <button class=\"colab-df-convert\" onclick=\"convertToInteractive('df-c63e677f-dd72-47b1-b3d0-b583cd5b2c93')\"\n",
              "              title=\"Convert this dataframe to an interactive table.\"\n",
              "              style=\"display:none;\">\n",
              "        \n",
              "  <svg xmlns=\"http://www.w3.org/2000/svg\" height=\"24px\"viewBox=\"0 0 24 24\"\n",
              "       width=\"24px\">\n",
              "    <path d=\"M0 0h24v24H0V0z\" fill=\"none\"/>\n",
              "    <path d=\"M18.56 5.44l.94 2.06.94-2.06 2.06-.94-2.06-.94-.94-2.06-.94 2.06-2.06.94zm-11 1L8.5 8.5l.94-2.06 2.06-.94-2.06-.94L8.5 2.5l-.94 2.06-2.06.94zm10 10l.94 2.06.94-2.06 2.06-.94-2.06-.94-.94-2.06-.94 2.06-2.06.94z\"/><path d=\"M17.41 7.96l-1.37-1.37c-.4-.4-.92-.59-1.43-.59-.52 0-1.04.2-1.43.59L10.3 9.45l-7.72 7.72c-.78.78-.78 2.05 0 2.83L4 21.41c.39.39.9.59 1.41.59.51 0 1.02-.2 1.41-.59l7.78-7.78 2.81-2.81c.8-.78.8-2.07 0-2.86zM5.41 20L4 18.59l7.72-7.72 1.47 1.35L5.41 20z\"/>\n",
              "  </svg>\n",
              "      </button>\n",
              "      \n",
              "  <style>\n",
              "    .colab-df-container {\n",
              "      display:flex;\n",
              "      flex-wrap:wrap;\n",
              "      gap: 12px;\n",
              "    }\n",
              "\n",
              "    .colab-df-convert {\n",
              "      background-color: #E8F0FE;\n",
              "      border: none;\n",
              "      border-radius: 50%;\n",
              "      cursor: pointer;\n",
              "      display: none;\n",
              "      fill: #1967D2;\n",
              "      height: 32px;\n",
              "      padding: 0 0 0 0;\n",
              "      width: 32px;\n",
              "    }\n",
              "\n",
              "    .colab-df-convert:hover {\n",
              "      background-color: #E2EBFA;\n",
              "      box-shadow: 0px 1px 2px rgba(60, 64, 67, 0.3), 0px 1px 3px 1px rgba(60, 64, 67, 0.15);\n",
              "      fill: #174EA6;\n",
              "    }\n",
              "\n",
              "    [theme=dark] .colab-df-convert {\n",
              "      background-color: #3B4455;\n",
              "      fill: #D2E3FC;\n",
              "    }\n",
              "\n",
              "    [theme=dark] .colab-df-convert:hover {\n",
              "      background-color: #434B5C;\n",
              "      box-shadow: 0px 1px 3px 1px rgba(0, 0, 0, 0.15);\n",
              "      filter: drop-shadow(0px 1px 2px rgba(0, 0, 0, 0.3));\n",
              "      fill: #FFFFFF;\n",
              "    }\n",
              "  </style>\n",
              "\n",
              "      <script>\n",
              "        const buttonEl =\n",
              "          document.querySelector('#df-c63e677f-dd72-47b1-b3d0-b583cd5b2c93 button.colab-df-convert');\n",
              "        buttonEl.style.display =\n",
              "          google.colab.kernel.accessAllowed ? 'block' : 'none';\n",
              "\n",
              "        async function convertToInteractive(key) {\n",
              "          const element = document.querySelector('#df-c63e677f-dd72-47b1-b3d0-b583cd5b2c93');\n",
              "          const dataTable =\n",
              "            await google.colab.kernel.invokeFunction('convertToInteractive',\n",
              "                                                     [key], {});\n",
              "          if (!dataTable) return;\n",
              "\n",
              "          const docLinkHtml = 'Like what you see? Visit the ' +\n",
              "            '<a target=\"_blank\" href=https://colab.research.google.com/notebooks/data_table.ipynb>data table notebook</a>'\n",
              "            + ' to learn more about interactive tables.';\n",
              "          element.innerHTML = '';\n",
              "          dataTable['output_type'] = 'display_data';\n",
              "          await google.colab.output.renderOutput(dataTable, element);\n",
              "          const docLink = document.createElement('div');\n",
              "          docLink.innerHTML = docLinkHtml;\n",
              "          element.appendChild(docLink);\n",
              "        }\n",
              "      </script>\n",
              "    </div>\n",
              "  </div>\n",
              "  "
            ]
          },
          "metadata": {},
          "execution_count": 36
        }
      ]
    },
    {
      "cell_type": "code",
      "source": [
        "account_date_session.sample(5)"
      ],
      "metadata": {
        "colab": {
          "base_uri": "https://localhost:8080/",
          "height": 206
        },
        "id": "vnwioBuOTHve",
        "outputId": "ee515c01-2153-468b-a300-4d6261eaf35e"
      },
      "execution_count": 37,
      "outputs": [
        {
          "output_type": "execute_result",
          "data": {
            "text/plain": [
              "          account_id        date  session_count  session_duration_sec\n",
              "1443273  38668962170  2016-10-18              1                   168\n",
              "656460   47257745130  2016-05-27              4                  1768\n",
              "1206083  12900868281  2016-12-26              9                  3676\n",
              "205494   42961616490  2016-03-07              4                  1846\n",
              "869566   55846077742  2016-08-21              1                   257"
            ],
            "text/html": [
              "\n",
              "  <div id=\"df-9e1743a2-03d8-4aac-836f-2b984bf59760\">\n",
              "    <div class=\"colab-df-container\">\n",
              "      <div>\n",
              "<style scoped>\n",
              "    .dataframe tbody tr th:only-of-type {\n",
              "        vertical-align: middle;\n",
              "    }\n",
              "\n",
              "    .dataframe tbody tr th {\n",
              "        vertical-align: top;\n",
              "    }\n",
              "\n",
              "    .dataframe thead th {\n",
              "        text-align: right;\n",
              "    }\n",
              "</style>\n",
              "<table border=\"1\" class=\"dataframe\">\n",
              "  <thead>\n",
              "    <tr style=\"text-align: right;\">\n",
              "      <th></th>\n",
              "      <th>account_id</th>\n",
              "      <th>date</th>\n",
              "      <th>session_count</th>\n",
              "      <th>session_duration_sec</th>\n",
              "    </tr>\n",
              "  </thead>\n",
              "  <tbody>\n",
              "    <tr>\n",
              "      <th>1443273</th>\n",
              "      <td>38668962170</td>\n",
              "      <td>2016-10-18</td>\n",
              "      <td>1</td>\n",
              "      <td>168</td>\n",
              "    </tr>\n",
              "    <tr>\n",
              "      <th>656460</th>\n",
              "      <td>47257745130</td>\n",
              "      <td>2016-05-27</td>\n",
              "      <td>4</td>\n",
              "      <td>1768</td>\n",
              "    </tr>\n",
              "    <tr>\n",
              "      <th>1206083</th>\n",
              "      <td>12900868281</td>\n",
              "      <td>2016-12-26</td>\n",
              "      <td>9</td>\n",
              "      <td>3676</td>\n",
              "    </tr>\n",
              "    <tr>\n",
              "      <th>205494</th>\n",
              "      <td>42961616490</td>\n",
              "      <td>2016-03-07</td>\n",
              "      <td>4</td>\n",
              "      <td>1846</td>\n",
              "    </tr>\n",
              "    <tr>\n",
              "      <th>869566</th>\n",
              "      <td>55846077742</td>\n",
              "      <td>2016-08-21</td>\n",
              "      <td>1</td>\n",
              "      <td>257</td>\n",
              "    </tr>\n",
              "  </tbody>\n",
              "</table>\n",
              "</div>\n",
              "      <button class=\"colab-df-convert\" onclick=\"convertToInteractive('df-9e1743a2-03d8-4aac-836f-2b984bf59760')\"\n",
              "              title=\"Convert this dataframe to an interactive table.\"\n",
              "              style=\"display:none;\">\n",
              "        \n",
              "  <svg xmlns=\"http://www.w3.org/2000/svg\" height=\"24px\"viewBox=\"0 0 24 24\"\n",
              "       width=\"24px\">\n",
              "    <path d=\"M0 0h24v24H0V0z\" fill=\"none\"/>\n",
              "    <path d=\"M18.56 5.44l.94 2.06.94-2.06 2.06-.94-2.06-.94-.94-2.06-.94 2.06-2.06.94zm-11 1L8.5 8.5l.94-2.06 2.06-.94-2.06-.94L8.5 2.5l-.94 2.06-2.06.94zm10 10l.94 2.06.94-2.06 2.06-.94-2.06-.94-.94-2.06-.94 2.06-2.06.94z\"/><path d=\"M17.41 7.96l-1.37-1.37c-.4-.4-.92-.59-1.43-.59-.52 0-1.04.2-1.43.59L10.3 9.45l-7.72 7.72c-.78.78-.78 2.05 0 2.83L4 21.41c.39.39.9.59 1.41.59.51 0 1.02-.2 1.41-.59l7.78-7.78 2.81-2.81c.8-.78.8-2.07 0-2.86zM5.41 20L4 18.59l7.72-7.72 1.47 1.35L5.41 20z\"/>\n",
              "  </svg>\n",
              "      </button>\n",
              "      \n",
              "  <style>\n",
              "    .colab-df-container {\n",
              "      display:flex;\n",
              "      flex-wrap:wrap;\n",
              "      gap: 12px;\n",
              "    }\n",
              "\n",
              "    .colab-df-convert {\n",
              "      background-color: #E8F0FE;\n",
              "      border: none;\n",
              "      border-radius: 50%;\n",
              "      cursor: pointer;\n",
              "      display: none;\n",
              "      fill: #1967D2;\n",
              "      height: 32px;\n",
              "      padding: 0 0 0 0;\n",
              "      width: 32px;\n",
              "    }\n",
              "\n",
              "    .colab-df-convert:hover {\n",
              "      background-color: #E2EBFA;\n",
              "      box-shadow: 0px 1px 2px rgba(60, 64, 67, 0.3), 0px 1px 3px 1px rgba(60, 64, 67, 0.15);\n",
              "      fill: #174EA6;\n",
              "    }\n",
              "\n",
              "    [theme=dark] .colab-df-convert {\n",
              "      background-color: #3B4455;\n",
              "      fill: #D2E3FC;\n",
              "    }\n",
              "\n",
              "    [theme=dark] .colab-df-convert:hover {\n",
              "      background-color: #434B5C;\n",
              "      box-shadow: 0px 1px 3px 1px rgba(0, 0, 0, 0.15);\n",
              "      filter: drop-shadow(0px 1px 2px rgba(0, 0, 0, 0.3));\n",
              "      fill: #FFFFFF;\n",
              "    }\n",
              "  </style>\n",
              "\n",
              "      <script>\n",
              "        const buttonEl =\n",
              "          document.querySelector('#df-9e1743a2-03d8-4aac-836f-2b984bf59760 button.colab-df-convert');\n",
              "        buttonEl.style.display =\n",
              "          google.colab.kernel.accessAllowed ? 'block' : 'none';\n",
              "\n",
              "        async function convertToInteractive(key) {\n",
              "          const element = document.querySelector('#df-9e1743a2-03d8-4aac-836f-2b984bf59760');\n",
              "          const dataTable =\n",
              "            await google.colab.kernel.invokeFunction('convertToInteractive',\n",
              "                                                     [key], {});\n",
              "          if (!dataTable) return;\n",
              "\n",
              "          const docLinkHtml = 'Like what you see? Visit the ' +\n",
              "            '<a target=\"_blank\" href=https://colab.research.google.com/notebooks/data_table.ipynb>data table notebook</a>'\n",
              "            + ' to learn more about interactive tables.';\n",
              "          element.innerHTML = '';\n",
              "          dataTable['output_type'] = 'display_data';\n",
              "          await google.colab.output.renderOutput(dataTable, element);\n",
              "          const docLink = document.createElement('div');\n",
              "          docLink.innerHTML = docLinkHtml;\n",
              "          element.appendChild(docLink);\n",
              "        }\n",
              "      </script>\n",
              "    </div>\n",
              "  </div>\n",
              "  "
            ]
          },
          "metadata": {},
          "execution_count": 37
        }
      ]
    },
    {
      "cell_type": "code",
      "source": [
        "account_date_session.info()"
      ],
      "metadata": {
        "colab": {
          "base_uri": "https://localhost:8080/"
        },
        "id": "qDDRM3RHTqPc",
        "outputId": "28ed7df3-f5f3-4f72-b3cd-575e5ec6cc02"
      },
      "execution_count": 38,
      "outputs": [
        {
          "output_type": "stream",
          "name": "stdout",
          "text": [
            "<class 'pandas.core.frame.DataFrame'>\n",
            "RangeIndex: 1698974 entries, 0 to 1698973\n",
            "Data columns (total 4 columns):\n",
            " #   Column                Dtype \n",
            "---  ------                ----- \n",
            " 0   account_id            object\n",
            " 1   date                  object\n",
            " 2   session_count         int64 \n",
            " 3   session_duration_sec  int64 \n",
            "dtypes: int64(2), object(2)\n",
            "memory usage: 51.8+ MB\n"
          ]
        }
      ]
    },
    {
      "cell_type": "code",
      "source": [
        "merged1['date'] = pd.to_datetime(merged1['date'])"
      ],
      "metadata": {
        "id": "dcIzpOHmTTlT"
      },
      "execution_count": 39,
      "outputs": []
    },
    {
      "cell_type": "code",
      "source": [
        "merged1['month_number'] = merged1['date'].dt.month"
      ],
      "metadata": {
        "id": "r4uvj_e2UG6a"
      },
      "execution_count": 40,
      "outputs": []
    },
    {
      "cell_type": "code",
      "source": [
        "merged1.groupby(by = 'month_number').session_count.sum().plot()"
      ],
      "metadata": {
        "colab": {
          "base_uri": "https://localhost:8080/",
          "height": 564
        },
        "id": "-bGSNDQGUTi6",
        "outputId": "bb5f5351-99ce-4f38-9541-96543cfd4331"
      },
      "execution_count": 41,
      "outputs": [
        {
          "output_type": "execute_result",
          "data": {
            "text/plain": [
              "<Axes: xlabel='month_number'>"
            ]
          },
          "metadata": {},
          "execution_count": 41
        },
        {
          "output_type": "display_data",
          "data": {
            "text/plain": [
              "<Figure size 1200x600 with 1 Axes>"
            ],
            "image/png": "[encoded data removed]"
          },
          "metadata": {}
        }
      ]
    },
    {
      "cell_type": "code",
      "source": [
        "merged1.groupby(by = 'month_number').session_duration_sec.sum().plot()"
      ],
      "metadata": {
        "colab": {
          "base_uri": "https://localhost:8080/",
          "height": 579
        },
        "id": "esN6Fkz0UgV0",
        "outputId": "803fbcbf-6d7d-4440-8ae1-ee1f5f879c4d"
      },
      "execution_count": 42,
      "outputs": [
        {
          "output_type": "execute_result",
          "data": {
            "text/plain": [
              "<Axes: xlabel='month_number'>"
            ]
          },
          "metadata": {},
          "execution_count": 42
        },
        {
          "output_type": "display_data",
          "data": {
            "text/plain": [
              "<Figure size 1200x600 with 1 Axes>"
            ],
            "image/png": "[encoded data removed]"
          },
          "metadata": {}
        }
      ]
    },
    {
      "cell_type": "code",
      "source": [
        "merged1.sample(5)"
      ],
      "metadata": {
        "colab": {
          "base_uri": "https://localhost:8080/",
          "height": 206
        },
        "id": "doHqwlIqUoXB",
        "outputId": "15e222fb-551b-478e-f87b-e925af42d848"
      },
      "execution_count": 43,
      "outputs": [
        {
          "output_type": "execute_result",
          "data": {
            "text/plain": [
              "          account_id       date  session_count  session_duration_sec  \\\n",
              "1512344   4311415648 2016-12-02              1                   220   \n",
              "761951   51551906400 2016-06-30             14                  3573   \n",
              "1476281   8606085460 2016-12-23              4                  1337   \n",
              "721913    4308625625 2016-08-19              2                   473   \n",
              "275921   30077238610 2016-05-21              4                   727   \n",
              "\n",
              "                    created_time           created_device created_platform  \\\n",
              "1512344  2016-11-14 15:21:57.116                  SM-T113          Android   \n",
              "761951   2016-02-16 13:02:29.464  HTC Desire 310 dual sim          Android   \n",
              "1476281  2016-11-10 02:52:27.419             Redmi Note 3          Android   \n",
              "721913   2016-03-12 16:42:01.905                iPhone8,1              iOS   \n",
              "275921   2016-01-24 18:53:06.161                 SM-N910C          Android   \n",
              "\n",
              "        country_code  created_app_store_id  month_number  \n",
              "1512344           IQ                     2            12  \n",
              "761951            RU                     2             6  \n",
              "1476281           CN                     4            12  \n",
              "721913            CN                     1             8  \n",
              "275921            AE                     2             5  "
            ],
            "text/html": [
              "\n",
              "  <div id=\"df-8e69c1d3-967e-4cf7-a794-fb462c8b587b\">\n",
              "    <div class=\"colab-df-container\">\n",
              "      <div>\n",
              "<style scoped>\n",
              "    .dataframe tbody tr th:only-of-type {\n",
              "        vertical-align: middle;\n",
              "    }\n",
              "\n",
              "    .dataframe tbody tr th {\n",
              "        vertical-align: top;\n",
              "    }\n",
              "\n",
              "    .dataframe thead th {\n",
              "        text-align: right;\n",
              "    }\n",
              "</style>\n",
              "<table border=\"1\" class=\"dataframe\">\n",
              "  <thead>\n",
              "    <tr style=\"text-align: right;\">\n",
              "      <th></th>\n",
              "      <th>account_id</th>\n",
              "      <th>date</th>\n",
              "      <th>session_count</th>\n",
              "      <th>session_duration_sec</th>\n",
              "      <th>created_time</th>\n",
              "      <th>created_device</th>\n",
              "      <th>created_platform</th>\n",
              "      <th>country_code</th>\n",
              "      <th>created_app_store_id</th>\n",
              "      <th>month_number</th>\n",
              "    </tr>\n",
              "  </thead>\n",
              "  <tbody>\n",
              "    <tr>\n",
              "      <th>1512344</th>\n",
              "      <td>4311415648</td>\n",
              "      <td>2016-12-02</td>\n",
              "      <td>1</td>\n",
              "      <td>220</td>\n",
              "      <td>2016-11-14 15:21:57.116</td>\n",
              "      <td>SM-T113</td>\n",
              "      <td>Android</td>\n",
              "      <td>IQ</td>\n",
              "      <td>2</td>\n",
              "      <td>12</td>\n",
              "    </tr>\n",
              "    <tr>\n",
              "      <th>761951</th>\n",
              "      <td>51551906400</td>\n",
              "      <td>2016-06-30</td>\n",
              "      <td>14</td>\n",
              "      <td>3573</td>\n",
              "      <td>2016-02-16 13:02:29.464</td>\n",
              "      <td>HTC Desire 310 dual sim</td>\n",
              "      <td>Android</td>\n",
              "      <td>RU</td>\n",
              "      <td>2</td>\n",
              "      <td>6</td>\n",
              "    </tr>\n",
              "    <tr>\n",
              "      <th>1476281</th>\n",
              "      <td>8606085460</td>\n",
              "      <td>2016-12-23</td>\n",
              "      <td>4</td>\n",
              "      <td>1337</td>\n",
              "      <td>2016-11-10 02:52:27.419</td>\n",
              "      <td>Redmi Note 3</td>\n",
              "      <td>Android</td>\n",
              "      <td>CN</td>\n",
              "      <td>4</td>\n",
              "      <td>12</td>\n",
              "    </tr>\n",
              "    <tr>\n",
              "      <th>721913</th>\n",
              "      <td>4308625625</td>\n",
              "      <td>2016-08-19</td>\n",
              "      <td>2</td>\n",
              "      <td>473</td>\n",
              "      <td>2016-03-12 16:42:01.905</td>\n",
              "      <td>iPhone8,1</td>\n",
              "      <td>iOS</td>\n",
              "      <td>CN</td>\n",
              "      <td>1</td>\n",
              "      <td>8</td>\n",
              "    </tr>\n",
              "    <tr>\n",
              "      <th>275921</th>\n",
              "      <td>30077238610</td>\n",
              "      <td>2016-05-21</td>\n",
              "      <td>4</td>\n",
              "      <td>727</td>\n",
              "      <td>2016-01-24 18:53:06.161</td>\n",
              "      <td>SM-N910C</td>\n",
              "      <td>Android</td>\n",
              "      <td>AE</td>\n",
              "      <td>2</td>\n",
              "      <td>5</td>\n",
              "    </tr>\n",
              "  </tbody>\n",
              "</table>\n",
              "</div>\n",
              "      <button class=\"colab-df-convert\" onclick=\"convertToInteractive('df-8e69c1d3-967e-4cf7-a794-fb462c8b587b')\"\n",
              "              title=\"Convert this dataframe to an interactive table.\"\n",
              "              style=\"display:none;\">\n",
              "        \n",
              "  <svg xmlns=\"http://www.w3.org/2000/svg\" height=\"24px\"viewBox=\"0 0 24 24\"\n",
              "       width=\"24px\">\n",
              "    <path d=\"M0 0h24v24H0V0z\" fill=\"none\"/>\n",
              "    <path d=\"M18.56 5.44l.94 2.06.94-2.06 2.06-.94-2.06-.94-.94-2.06-.94 2.06-2.06.94zm-11 1L8.5 8.5l.94-2.06 2.06-.94-2.06-.94L8.5 2.5l-.94 2.06-2.06.94zm10 10l.94 2.06.94-2.06 2.06-.94-2.06-.94-.94-2.06-.94 2.06-2.06.94z\"/><path d=\"M17.41 7.96l-1.37-1.37c-.4-.4-.92-.59-1.43-.59-.52 0-1.04.2-1.43.59L10.3 9.45l-7.72 7.72c-.78.78-.78 2.05 0 2.83L4 21.41c.39.39.9.59 1.41.59.51 0 1.02-.2 1.41-.59l7.78-7.78 2.81-2.81c.8-.78.8-2.07 0-2.86zM5.41 20L4 18.59l7.72-7.72 1.47 1.35L5.41 20z\"/>\n",
              "  </svg>\n",
              "      </button>\n",
              "      \n",
              "  <style>\n",
              "    .colab-df-container {\n",
              "      display:flex;\n",
              "      flex-wrap:wrap;\n",
              "      gap: 12px;\n",
              "    }\n",
              "\n",
              "    .colab-df-convert {\n",
              "      background-color: #E8F0FE;\n",
              "      border: none;\n",
              "      border-radius: 50%;\n",
              "      cursor: pointer;\n",
              "      display: none;\n",
              "      fill: #1967D2;\n",
              "      height: 32px;\n",
              "      padding: 0 0 0 0;\n",
              "      width: 32px;\n",
              "    }\n",
              "\n",
              "    .colab-df-convert:hover {\n",
              "      background-color: #E2EBFA;\n",
              "      box-shadow: 0px 1px 2px rgba(60, 64, 67, 0.3), 0px 1px 3px 1px rgba(60, 64, 67, 0.15);\n",
              "      fill: #174EA6;\n",
              "    }\n",
              "\n",
              "    [theme=dark] .colab-df-convert {\n",
              "      background-color: #3B4455;\n",
              "      fill: #D2E3FC;\n",
              "    }\n",
              "\n",
              "    [theme=dark] .colab-df-convert:hover {\n",
              "      background-color: #434B5C;\n",
              "      box-shadow: 0px 1px 3px 1px rgba(0, 0, 0, 0.15);\n",
              "      filter: drop-shadow(0px 1px 2px rgba(0, 0, 0, 0.3));\n",
              "      fill: #FFFFFF;\n",
              "    }\n",
              "  </style>\n",
              "\n",
              "      <script>\n",
              "        const buttonEl =\n",
              "          document.querySelector('#df-8e69c1d3-967e-4cf7-a794-fb462c8b587b button.colab-df-convert');\n",
              "        buttonEl.style.display =\n",
              "          google.colab.kernel.accessAllowed ? 'block' : 'none';\n",
              "\n",
              "        async function convertToInteractive(key) {\n",
              "          const element = document.querySelector('#df-8e69c1d3-967e-4cf7-a794-fb462c8b587b');\n",
              "          const dataTable =\n",
              "            await google.colab.kernel.invokeFunction('convertToInteractive',\n",
              "                                                     [key], {});\n",
              "          if (!dataTable) return;\n",
              "\n",
              "          const docLinkHtml = 'Like what you see? Visit the ' +\n",
              "            '<a target=\"_blank\" href=https://colab.research.google.com/notebooks/data_table.ipynb>data table notebook</a>'\n",
              "            + ' to learn more about interactive tables.';\n",
              "          element.innerHTML = '';\n",
              "          dataTable['output_type'] = 'display_data';\n",
              "          await google.colab.output.renderOutput(dataTable, element);\n",
              "          const docLink = document.createElement('div');\n",
              "          docLink.innerHTML = docLinkHtml;\n",
              "          element.appendChild(docLink);\n",
              "        }\n",
              "      </script>\n",
              "    </div>\n",
              "  </div>\n",
              "  "
            ]
          },
          "metadata": {},
          "execution_count": 43
        }
      ]
    },
    {
      "cell_type": "code",
      "source": [
        "merged1.groupby(by = 'month_number').account_id.count().plot()"
      ],
      "metadata": {
        "colab": {
          "base_uri": "https://localhost:8080/",
          "height": 564
        },
        "id": "dex1gW7kVCCf",
        "outputId": "1eb0e869-a6c8-4832-85de-e662833a729c"
      },
      "execution_count": 44,
      "outputs": [
        {
          "output_type": "execute_result",
          "data": {
            "text/plain": [
              "<Axes: xlabel='month_number'>"
            ]
          },
          "metadata": {},
          "execution_count": 44
        },
        {
          "output_type": "display_data",
          "data": {
            "text/plain": [
              "<Figure size 1200x600 with 1 Axes>"
            ],
            "image/png": "[encoded data removed]"
          },
          "metadata": {}
        }
      ]
    },
    {
      "cell_type": "code",
      "source": [
        "data2.groupby('month_number').account_id.count().plot()"
      ],
      "metadata": {
        "colab": {
          "base_uri": "https://localhost:8080/",
          "height": 564
        },
        "id": "jlkmoSEFVXhP",
        "outputId": "acaf4444-1af3-401d-9fbc-1d01eede620d"
      },
      "execution_count": 49,
      "outputs": [
        {
          "output_type": "execute_result",
          "data": {
            "text/plain": [
              "<Axes: xlabel='month_number'>"
            ]
          },
          "metadata": {},
          "execution_count": 49
        },
        {
          "output_type": "display_data",
          "data": {
            "text/plain": [
              "<Figure size 1200x600 with 1 Axes>"
            ],
            "image/png": "[encoded data removed]"
          },
          "metadata": {}
        }
      ]
    },
    {
      "cell_type": "code",
      "source": [
        "(data2.groupby('month_number').account_id.count()/merged1.groupby(by = 'month_number').account_id.count()).plot()"
      ],
      "metadata": {
        "colab": {
          "base_uri": "https://localhost:8080/",
          "height": 564
        },
        "id": "pU4ieoKRVm0i",
        "outputId": "a146588c-8bf4-45ca-bd7d-ac7c4f81af06"
      },
      "execution_count": 50,
      "outputs": [
        {
          "output_type": "execute_result",
          "data": {
            "text/plain": [
              "<Axes: xlabel='month_number'>"
            ]
          },
          "metadata": {},
          "execution_count": 50
        },
        {
          "output_type": "display_data",
          "data": {
            "text/plain": [
              "<Figure size 1200x600 with 1 Axes>"
            ],
            "image/png": "[encoded data removed]"
          },
          "metadata": {}
        }
      ]
    },
    {
      "cell_type": "markdown",
      "source": [
        "The percentage of active users keeps going down. This could be the reason that the LTV is going down from Janurary to December. This trend also aligns with the I_ap_purchases sum chart."
      ],
      "metadata": {
        "id": "gm3hiG9fn3wI"
      }
    },
    {
      "cell_type": "markdown",
      "source": [
        "Task 2. Conclusions\n",
        "\n",
        "Summarise the report so far\n",
        "Evaluate what would be actionable based on the data OR if you need to have\n",
        "something more to make it actionable, describe what and why and next steps\n",
        "then.\n",
        "For the second part you can also generate something new on the report if you find it\n",
        "useful."
      ],
      "metadata": {
        "id": "CY29HKe4ov6n"
      }
    },
    {
      "cell_type": "markdown",
      "source": [
        "Based on my findings, I found out that a few countries have way more users and revenue than the other countires. I also found out that the revenue for the game keeps going down. One of the reasons that I found out could cause this problem is the number of users for the game is going down. "
      ],
      "metadata": {
        "id": "33V6i8Fxo1yh"
      }
    },
    {
      "cell_type": "markdown",
      "source": [
        "In order to solve this decline. There are several steps I would take .\n",
        "\n",
        "1. I will talk to other data analyst on the team. I would like to understand if this is happening to the whole company. Are other games also experiencing decline? Do we see some other user metrics that are not in this dataset that could potentially cause this?\n",
        "2. I will investigate to understand what is exactly causing this issues. \n",
        "  1. Is it possible that we have a data logging error? I will check with the SDEs to investigate this. If that is the case I will work with them to correctly log the data.\n",
        "  2. Is the company spending less marketing for the game? I will work with the marketing managers to understand if they are decresing marketing budget for the game. I will also work with them to see if increasing marketing could improve the revenue.\n",
        "  3. Is there a competition from other games? I would like to work with the business experts in this issue to understand if competitors are stealing away our market shares for the game.\n",
        "  4. If I have time, I would investigate the chinese market since it consists a large number of the users and revenue. Janurary to Feburary is also the Chinese New Year time, so naturally people will have a lot of time and play the games. "
      ],
      "metadata": {
        "id": "41sVEURqpdyr"
      }
    },
    {
      "cell_type": "code",
      "source": [],
      "metadata": {
        "id": "8A4cqQbVowQM"
      },
      "execution_count": null,
      "outputs": []
    }
  ]
}